{
 "cells": [
  {
   "cell_type": "code",
   "execution_count": null,
   "metadata": {},
   "outputs": [
    {
     "name": "stdout",
     "output_type": "stream",
     "text": [
      "A soma é igual a: 20\n"
     ]
    },
    {
     "name": "stdout",
     "output_type": "stream",
     "text": [
      "A soma é igual a: 20\n"
     ]
    }
   ],
   "source": [
    "#Estrutura de entrada (variaveis)\n",
    "\n",
    "caique = 10\n",
    "\n",
    "#estrutara processo (calculo, logica, testes, análise...)\n",
    "\n",
    "soma = caique + 10\n",
    "\n",
    "#Estrutura saída (tudo o que vemos)\n",
    "\n",
    "print(\"A soma é igual a:\", soma)"
   ]
  },
  {
   "cell_type": "code",
   "execution_count": 26,
   "metadata": {},
   "outputs": [
    {
     "name": "stdout",
     "output_type": "stream",
     "text": [
      "Média das nota n1, n2 e n3: 8.0\n"
     ]
    }
   ],
   "source": [
    "#estrutura de entrada\n",
    "\n",
    "n1 = 10 #(fixo)\n",
    "n2 = 5 #(fixo)\n",
    "n3 = 9 #(fixo)\n",
    "\n",
    "#Estrura de processo\n",
    "\n",
    "media = (n1 + n2 + n3)/3\n",
    "\n",
    "# Estrutura de saida\n",
    "\n",
    "print(\"Média das nota n1, n2 e n3:\", media)\n",
    "\n"
   ]
  },
  {
   "cell_type": "code",
   "execution_count": null,
   "metadata": {},
   "outputs": [
    {
     "name": "stdout",
     "output_type": "stream",
     "text": [
      "A media das notas n1, n2 e n3 é: 10.0\n"
     ]
    }
   ],
   "source": [
    "#estrutura de entrada\n",
    "\n",
    "n1 = int(input(\"ESCREVA A NOTA 1\")) # int é inteiro \n",
    "n2 = int(input(\"ESCREVA A NOTA 2\"))\n",
    "n3 = int(input(\"ESCREVA A NOTA 3\"))\n",
    "\n",
    "#Estrutura de processo\n",
    "\n",
    "media = (n1 + n2 + n3)/3\n",
    "\n",
    "#estrutura de saída\n",
    "\n",
    "print(\"A media das notas n1, n2 e n3 é:\", media)\n",
    "\n"
   ]
  },
  {
   "cell_type": "code",
   "execution_count": null,
   "metadata": {},
   "outputs": [
    {
     "name": "stdout",
     "output_type": "stream",
     "text": [
      "A media das notas n1, n2 e n3 é: 10.5\n"
     ]
    }
   ],
   "source": [
    "#estrutura de entrada\n",
    "\n",
    "n1 = float(input(\"ESCREVA A NOTA 1\")) #float é decimal \n",
    "n2 = float(input(\"ESCREVA A NOTA 2\"))\n",
    "n3 = float(input(\"ESCREVA A NOTA 3\"))\n",
    "\n",
    "#Estrutura de processo\n",
    "\n",
    "media = (n1 + n2 + n3)/3\n",
    "\n",
    "#estrutura de saída\n",
    "\n",
    "print(\"A media das notas n1, n2 e n3 é:\", media)"
   ]
  },
  {
   "cell_type": "code",
   "execution_count": 22,
   "metadata": {},
   "outputs": [
    {
     "name": "stdout",
     "output_type": "stream",
     "text": [
      "Aprovado 6.666666666666667\n"
     ]
    }
   ],
   "source": [
    "#estrutura de entrada\n",
    "\n",
    "n1 = float(input(\"ESCREVA A NOTA 1\")) #float é decimal \n",
    "n2 = float(input(\"ESCREVA A NOTA 2\"))\n",
    "n3 = float(input(\"ESCREVA A NOTA 3\"))\n",
    "\n",
    "#Estrutura de processo\n",
    "\n",
    "media = (n1 + n2 + n3)/3\n",
    "\n",
    "#estrutura de processo IF (teste lógico)\n",
    "\n",
    "if media >= 5:\n",
    "    #estrutura de saída\n",
    "    print(\"Aprovado\", media)\n",
    "else:\n",
    "    #estrutura de saída\n",
    "    print(\"reprovado\", media)\n",
    "\n",
    "\n",
    "\n",
    "# =se(teste logico; valor verdadeiro; valor falso)\n",
    "# =se(media >=5; \"aprovado\";\"reprovado\")\n",
    "# if (se); else (se não)\n",
    "\n"
   ]
  },
  {
   "cell_type": "code",
   "execution_count": 23,
   "metadata": {},
   "outputs": [
    {
     "name": "stdout",
     "output_type": "stream",
     "text": [
      "REPROVADO\n"
     ]
    }
   ],
   "source": [
    "\"\"\"Faça um programa que o usuário coloque as 3 notas e o usuário coloque a frequencia. calcule a média.\n",
    "\n",
    "se a medía for >=7 e a frequencia for >75:\n",
    "\"aprovado\"\n",
    "\"reprovado\"\"\"\n",
    "\n",
    "n1 = int(input(\"INSIRA A NOTA 1\")) #int = numero inteiro\n",
    "n2 = int(input(\"INSIRA A NOTA 2\"))\n",
    "n3 = int(input(\"INSIRA A NOTA 3\"))\n",
    "\n",
    "frequencia = float(input(\"INSIRA A FREQUENCIA\"))\n",
    "\n",
    "#processo\n",
    "media = (n1 + n2 + n3)/3 #meida = a soma dos elementos / pela quantidade de elementos \n",
    " \n",
    "#teste logico\n",
    "\n",
    "if media >=7 and frequencia >75:\n",
    "    print(\"APROVADO\")\n",
    "\n",
    "elif media == 10 and frequencia == 100:\n",
    "    print(\"ALUNO DESTAQUE\") \n",
    "else:\n",
    "    print(\"REPROVADO\") "
   ]
  },
  {
   "cell_type": "code",
   "execution_count": 45,
   "metadata": {},
   "outputs": [
    {
     "name": "stdout",
     "output_type": "stream",
     "text": [
      "APROVADO 8.0\n"
     ]
    }
   ],
   "source": [
    "\"calcule a média do aluno\"\n",
    "\n",
    "\n",
    "n1= float(input(\"insira a nota\"))\n",
    "n2= float(input(\"insira a nota\"))\n",
    "n3= float(input(\"insira a nota\"))\n",
    "\n",
    "\n",
    "media= (n1 + n2 + n3)/3\n",
    "\n",
    "\n",
    "if media >= 5:\n",
    "    print(\"APROVADO\", media)\n",
    "else:\n",
    "    print(\"REPROVADO\", media)\n",
    "    \n",
    "    \n"
   ]
  }
 ],
 "metadata": {
  "kernelspec": {
   "display_name": "Python 3",
   "language": "python",
   "name": "python3"
  },
  "language_info": {
   "codemirror_mode": {
    "name": "ipython",
    "version": 3
   },
   "file_extension": ".py",
   "mimetype": "text/x-python",
   "name": "python",
   "nbconvert_exporter": "python",
   "pygments_lexer": "ipython3",
   "version": "3.11.9"
  }
 },
 "nbformat": 4,
 "nbformat_minor": 2
}
