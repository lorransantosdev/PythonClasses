{
 "cells": [
  {
   "cell_type": "code",
   "execution_count": null,
   "metadata": {},
   "outputs": [],
   "source": [
    "i = 0\n",
    "\n",
    "\"\"\"WHILE = ESTRUTURA DE REPETIÇÃO\"\"\"\n",
    "while i <= 5:\n",
    "    print(i)\n",
    "    i += 1"
   ]
  },
  {
   "cell_type": "code",
   "execution_count": null,
   "metadata": {},
   "outputs": [],
   "source": [
    "resultado = 1\n",
    "numero = 0\n",
    "\n",
    "while numero < 5:\n",
    "    numero += 1\n",
    "    resultado *= numero\n",
    "print(resultado)"
   ]
  },
  {
   "cell_type": "code",
   "execution_count": 1,
   "metadata": {},
   "outputs": [
    {
     "name": "stdout",
     "output_type": "stream",
     "text": [
      "9\n",
      "8\n",
      "7\n",
      "6\n",
      "5\n",
      "4\n",
      "3\n",
      "2\n",
      "1\n",
      "0\n"
     ]
    }
   ],
   "source": [
    "#conatem decrescente\n",
    "\n",
    "contador = 10\n",
    "\n",
    "while contador > 0:\n",
    "    contador -= 1\n",
    "    print(contador)\n",
    "\n"
   ]
  },
  {
   "cell_type": "code",
   "execution_count": null,
   "metadata": {},
   "outputs": [],
   "source": [
    "#python tutor"
   ]
  },
  {
   "cell_type": "code",
   "execution_count": 2,
   "metadata": {},
   "outputs": [
    {
     "name": "stdout",
     "output_type": "stream",
     "text": [
      "10.0ºF / -26.444444444444443ºC\n",
      "10.0ºF / -26.444444444444443ºC\n",
      "20.0ºF / -20.88888888888889ºC\n",
      "5.0ºF / -29.22222222222222ºC\n",
      "45.0ºF / -7.0ºC\n",
      "45.0ºF / -7.0ºC\n",
      "45.0ºF / -7.0ºC\n",
      "8.0ºF / -27.555555555555557ºC\n",
      "8.0ºF / -27.555555555555557ºC\n",
      "5.0ºF / -29.22222222222222ºC\n",
      "8.0ºF / -27.555555555555557ºC\n",
      "5.0ºF / -29.22222222222222ºC\n",
      "4.0ºF / -29.77777777777778ºC\n"
     ]
    },
    {
     "ename": "ValueError",
     "evalue": "could not convert string to float: ''",
     "output_type": "error",
     "traceback": [
      "\u001b[1;31m---------------------------------------------------------------------------\u001b[0m",
      "\u001b[1;31mValueError\u001b[0m                                Traceback (most recent call last)",
      "Cell \u001b[1;32mIn[2], line 14\u001b[0m\n\u001b[0;32m     10\u001b[0m temp_celsius \u001b[38;5;241m=\u001b[39m ((\u001b[38;5;241m5\u001b[39m\u001b[38;5;241m/\u001b[39m\u001b[38;5;241m9\u001b[39m) \u001b[38;5;241m*\u001b[39m (temp_farenheit) \u001b[38;5;241m-\u001b[39m \u001b[38;5;241m32\u001b[39m)\n\u001b[0;32m     12\u001b[0m \u001b[38;5;28mprint\u001b[39m(\u001b[38;5;124m\"\u001b[39m\u001b[38;5;132;01m{}\u001b[39;00m\u001b[38;5;124mºF / \u001b[39m\u001b[38;5;132;01m{}\u001b[39;00m\u001b[38;5;124mºC\u001b[39m\u001b[38;5;124m\"\u001b[39m \u001b[38;5;241m.\u001b[39mformat(temp_farenheit, temp_celsius))\n\u001b[1;32m---> 14\u001b[0m temp_farenheit \u001b[38;5;241m=\u001b[39m \u001b[38;5;28;43mfloat\u001b[39;49m\u001b[43m(\u001b[49m\u001b[38;5;28;43minput\u001b[39;49m\u001b[43m(\u001b[49m\u001b[38;5;124;43m\"\u001b[39;49m\u001b[38;5;124;43mINSIRA O VALOR DE TEMPERATURA\u001b[39;49m\u001b[38;5;124;43m\"\u001b[39;49m\u001b[43m)\u001b[49m\u001b[43m)\u001b[49m\n",
      "\u001b[1;31mValueError\u001b[0m: could not convert string to float: ''"
     ]
    }
   ],
   "source": [
    "#Ex 1 - Criar um programa para solicitar temperatura em farehnheit e converter para celsius\n",
    "# Enquanto for diferente de alguma coisa continue essa estrutura.\n",
    "\n",
    "\n",
    "temp_celsius = 0\n",
    "temp_farenheit = float(input(\"INSIRA O VALOR DE TEMPERATURA\"))\n",
    "\n",
    "while temp_farenheit != 0:\n",
    "\n",
    "    temp_celsius = ((5/9) * (temp_farenheit) - 32)\n",
    "     \n",
    "    print(\"{}ºF / {}ºC\" .format(temp_farenheit, temp_celsius))\n",
    "\n",
    "    temp_farenheit = float(input(\"INSIRA O VALOR DE TEMPERATURA\"))"
   ]
  },
  {
   "cell_type": "code",
   "execution_count": 9,
   "metadata": {},
   "outputs": [
    {
     "name": "stdout",
     "output_type": "stream",
     "text": [
      "1\n",
      "2\n",
      "3\n",
      "4\n",
      "5\n",
      "6\n",
      "7\n",
      "8\n",
      "9\n",
      "10\n",
      "11\n",
      "12\n",
      "13\n",
      "14\n",
      "15\n",
      "16\n",
      "17\n",
      "18\n",
      "19\n",
      "20\n",
      "21\n",
      "22\n",
      "23\n",
      "24\n",
      "25\n",
      "26\n",
      "27\n",
      "28\n",
      "29\n",
      "30\n",
      "31\n",
      "32\n",
      "33\n",
      "34\n",
      "35\n",
      "36\n",
      "37\n",
      "38\n",
      "39\n",
      "40\n",
      "41\n",
      "42\n",
      "43\n",
      "44\n",
      "45\n",
      "46\n",
      "47\n",
      "48\n",
      "49\n",
      "50\n"
     ]
    }
   ],
   "source": [
    "#cria um programa para solicitar um numero para o usuario, crie uma variavel contador = 1\n",
    "# utilize a estrutura while para contar ate que contador seja menor ou igual a numero =, print cotador,\n",
    "# increment contador +1\n",
    "\n",
    "\n",
    "numero = float(input(\"INSIRA UM NUMERO\"))\n",
    "contador = 1\n",
    "\n",
    "while contador <= numero:\n",
    "    print(contador)\n",
    "    contador +=1"
   ]
  },
  {
   "cell_type": "code",
   "execution_count": 25,
   "metadata": {},
   "outputs": [
    {
     "name": "stdout",
     "output_type": "stream",
     "text": [
      "1\n",
      "2\n",
      "3\n",
      "4\n",
      "5\n",
      "6\n",
      "7\n",
      "8\n",
      "9\n",
      "10\n",
      "11\n",
      "10\n",
      "9\n",
      "8\n",
      "7\n",
      "6\n",
      "5\n",
      "4\n",
      "3\n",
      "2\n",
      "1\n",
      "0\n"
     ]
    }
   ],
   "source": [
    "# Crie um programa para contar de 0 ate 10, depois crie um programa para contagem decrescente \n",
    "\n",
    "contador = 0\n",
    "\n",
    "while contador < 11:\n",
    "    contador += 1\n",
    "    print(contador)\n",
    "\n",
    "while contador > 0 :\n",
    "    contador -= 1\n",
    "    print(contador)\n",
    "   "
   ]
  },
  {
   "cell_type": "code",
   "execution_count": null,
   "metadata": {},
   "outputs": [],
   "source": [
    "lista = [1, 2, 3]\n",
    "\n",
    "list_letras = [\"a\", \"b\", \"c\"]\n",
    "\n",
    "print(len(list))\n",
    "print(len(list_letras))"
   ]
  },
  {
   "cell_type": "code",
   "execution_count": 1,
   "metadata": {},
   "outputs": [
    {
     "name": "stdout",
     "output_type": "stream",
     "text": [
      "A LETRA 'A' APARECE {4} vezes na frase\n"
     ]
    }
   ],
   "source": [
    "frase = input(\"DIGITE UMA FRASE\")\n",
    "\n",
    "contagem = 0\n",
    "indice = 0\n",
    "\n",
    "while indice < len(frase):\n",
    "\n",
    "    # verificando o \"a\" - o indice é [xxx]\n",
    "    if frase[indice] == \"a\":\n",
    "        \n",
    "        # conta quantos elementos tem na frase\n",
    "        contagem += 1\n",
    "\n",
    "    # indice caminha caracter por caracter\n",
    "    indice += 1\n",
    "    \n",
    "print(f\"A LETRA 'A' APARECE\", {contagem}, \"vezes na frase\")\n"
   ]
  },
  {
   "cell_type": "code",
   "execution_count": null,
   "metadata": {},
   "outputs": [],
   "source": [
    "nome = input(\"nome?\")\n",
    "\n",
    "ultima_letra = nome[len(nome)-1]\n",
    "print(ultima_letra)"
   ]
  },
  {
   "cell_type": "code",
   "execution_count": null,
   "metadata": {},
   "outputs": [],
   "source": [
    "numeros = [10, 5. 30]\n",
    "\n",
    "soma = 0\n",
    "indice = 0\n",
    "\n",
    "while indice <len(numeros):\n",
    "    soma += numeros[indice]\n",
    "    indice +=1\n",
    "\n",
    "media = soma / len(numeros)\n",
    "print(media)"
   ]
  }
 ],
 "metadata": {
  "kernelspec": {
   "display_name": "Python 3",
   "language": "python",
   "name": "python3"
  },
  "language_info": {
   "codemirror_mode": {
    "name": "ipython",
    "version": 3
   },
   "file_extension": ".py",
   "mimetype": "text/x-python",
   "name": "python",
   "nbconvert_exporter": "python",
   "pygments_lexer": "ipython3",
   "version": "3.11.9"
  }
 },
 "nbformat": 4,
 "nbformat_minor": 2
}
