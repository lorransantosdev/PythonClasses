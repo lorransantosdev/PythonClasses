{
 "cells": [
  {
   "cell_type": "code",
   "execution_count": null,
   "metadata": {},
   "outputs": [],
   "source": [
    "n1 =10\n",
    "n2 = 5\n",
    "n3 = 7\n",
    "\n",
    "media = (n1 + n2 + n3) / 3\n",
    "\n",
    "if media >=7:\n",
    "    print(\"Aprovado\", media)\n",
    "elif media >=4 and media <7:\n",
    "        print(\"Exame\")\n",
    "\n",
    "else:\n",
    "    print(\"Reprovado\", media)"
   ]
  },
  {
   "cell_type": "code",
   "execution_count": 1,
   "metadata": {},
   "outputs": [
    {
     "name": "stdout",
     "output_type": "stream",
     "text": [
      "Aprovado 13.0\n"
     ]
    }
   ],
   "source": [
    "#\n",
    "\n",
    "\n",
    "n1 = float(input(\"INSIRA A NOTA 1\"))\n",
    "n2 = float(input(\"INSIRA A NOTA 2\"))\n",
    "n3 = float(input(\"INSIRA A NOTA 3\"))\n",
    "artigo = str(input(\"TEM ARTIGO PUBLICADO (SIM OU NÃO)\"))\n",
    "           \n",
    "\n",
    "media =  (n1 + n2 + n3) / 3\n",
    "\n",
    "\n",
    "if artigo == \"SIM\":\n",
    "    print(\"Aprovado\", artigo)\n",
    "\n",
    "elif media >=7:\n",
    "    print(\"Aprovado\", media)\n",
    "\n",
    "elif media < 7 or media <= 4:\n",
    "    print(\"Exame\", media)\n",
    "\n",
    "elif media <4:\n",
    "    print(\"Reprovado\", media)\n",
    "\n",
    "else:\n",
    "    print(\"Reprovado\", artigo)\n"
   ]
  },
  {
   "cell_type": "code",
   "execution_count": 8,
   "metadata": {},
   "outputs": [
    {
     "name": "stdout",
     "output_type": "stream",
     "text": [
      "VOCÊ FOI MULTADO POR EXCESSO DE VELOCIDADE R$ 1095.0\n"
     ]
    }
   ],
   "source": [
    "velocidade = float(input(\"INSIRA A VELOCIDADE DO CARRO\"))\n",
    "\n",
    "if velocidade > 80:\n",
    "    print(\"VOCÊ FOI MULTADO POR EXCESSO DE VELOCIDADE R$\", (velocidade - 80) * 5)\n",
    "\n",
    "else:\n",
    "    print(\"VELOCIDADE PERMITIDA\")\n"
   ]
  },
  {
   "cell_type": "code",
   "execution_count": 17,
   "metadata": {},
   "outputs": [
    {
     "name": "stdout",
     "output_type": "stream",
     "text": [
      "Adulto 18.0\n"
     ]
    }
   ],
   "source": [
    "idade = float(input(\"QUAL A SUA IDADE?\"))\n",
    "\n",
    "if idade <12:\n",
    "    print(\"Criança\", idade)\n",
    "\n",
    "elif 12<= idade <18:\n",
    "    print(\"Adolescente\", idade)\n",
    "\n",
    "elif 18<= idade <65:\n",
    "    print(\"Adulto\", idade)\n",
    "else:\n",
    "    print(\"Idoso\", idade)"
   ]
  },
  {
   "cell_type": "code",
   "execution_count": 2,
   "metadata": {},
   "outputs": [
    {
     "name": "stdout",
     "output_type": "stream",
     "text": [
      "IMPAR 15\n"
     ]
    }
   ],
   "source": [
    "#4 programa que verificca se é Par ou Impar \n",
    "\n",
    "par_impar = int(input(\"INSIRA UM NÚMERO\"))\n",
    "\n",
    "if par_impar %2 == 0:\n",
    "    print(\"PAR\", par_impar)\n",
    "else:\n",
    "    print(\"IMPAR\", par_impar)"
   ]
  },
  {
   "cell_type": "code",
   "execution_count": 5,
   "metadata": {},
   "outputs": [
    {
     "name": "stdout",
     "output_type": "stream",
     "text": [
      "n1 e n2 são iguais e maiores que o n3 8.0 8.0 6.0\n"
     ]
    }
   ],
   "source": [
    "#5 programa que compare 3 numero e fale qual é o maior\n",
    "\n",
    "n1 = float(input(\"INSIRA O N1\"))\n",
    "n2 = float(input(\"INSIRA O N2\"))\n",
    "n3 = float(input(\"INSIRA O N3\"))\n",
    "\n",
    "#dois numeros menos do que um outro (independente do valor)\n",
    "\n",
    "if n1 > n2 and n1 > n3:\n",
    "    print(\"O N1 É MAIOR:\", n1, n2, n3)\n",
    "\n",
    "elif n2 > n1 and n2 > n3:\n",
    "    print(\"O N2 É MAIOR\", n1, n2, n3)\n",
    "\n",
    "elif n3 > n1 and n3 > n2:\n",
    "    print(\"O N3 É MAIOR\", n1, n2, n3)\n",
    "\n",
    "#dois numero iguais e um maior \n",
    "\n",
    "elif n1 == n2 and n3 > n1 and n3 > n2:\n",
    "    print(\"O N3 É MAIOR\", n1, n2, n3)\n",
    "\n",
    "elif n1 == n3 and n2 > n1 and n2 > n3:\n",
    "    print(\"O N2 É MAIOR\", n1, n2, n3)\n",
    "\n",
    "elif n2 == n3 and n1 > n2 and n1 > n3:\n",
    "    print(\"O N1 É MAIOR\", n1, n2, n3)\n",
    "\n",
    "#dois numeros iguais e um menor \n",
    "\n",
    "elif n1 == n2 and n3 < n1 and n3 < n2:\n",
    "    print(\"n1 e n2 são iguais e maiores que o n3\", n1, n2, n3)\n",
    "\n",
    "elif n1 == n3 and n2 < n1 and n2 < n3:\n",
    "    print(\"n1 e n3 são iguais e maiores que o n2\", n1, n2, n3)\n",
    "\n",
    "elif n2 == n3 and n1 < n2 and n1 < n3:\n",
    "    print(\"n2 e n3 são iguais e maiores que o n1\", n1, n2, n3)\n",
    "\n",
    "else:\n",
    "    print(\"TODOS SÃO IGUAIS\", n1, n2, n3)"
   ]
  },
  {
   "cell_type": "code",
   "execution_count": 26,
   "metadata": {},
   "outputs": [
    {
     "name": "stdout",
     "output_type": "stream",
     "text": [
      "Roxo 4\n"
     ]
    }
   ],
   "source": [
    "#6 mostre qual a cor favorita, utilizando uma estrutura de numero \n",
    "\n",
    "numeroCor = int(input(\"NUMERO DA COR\"))\n",
    "\n",
    "if numeroCor == 1:\n",
    "    print(\"Azul\", numeroCor)\n",
    "elif numeroCor == 2:\n",
    "    print(\"Amarelo\", numeroCor)\n",
    "elif numeroCor == 3:\n",
    "    print(\"Verde\", numeroCor)\n",
    "elif numeroCor == 4:\n",
    "    print(\"Roxo\", numeroCor)\n",
    "else:\n",
    "    print(\"Outras cores\")\n",
    "\n"
   ]
  },
  {
   "cell_type": "code",
   "execution_count": 44,
   "metadata": {},
   "outputs": [
    {
     "name": "stdout",
     "output_type": "stream",
     "text": [
      "terca Dia de Estudar ou Trabalhar\n"
     ]
    }
   ],
   "source": [
    "#8 programa para usuario inserir dia da semana e printar dia de balada caso seja sabado, caso seja domingo, deverá printar dia de netflxx, futebol ou cinema. Caso seja dia da semana, print dia de estudar ou trabalhar\n",
    "\n",
    "diadasemana = str(input(\"INSIRA O DIA DA SEMANA\"))\n",
    "\n",
    "if diadasemana == 'sabado' or diadasemana == 'sábado' or diadasemana == 'Sabado' or diadasemana == 'Sábado' or diadasemana == 'SABADO' or diadasemana == 'SÁBADO':\n",
    "    print(diadasemana, \"Dia de Balada\")\n",
    "\n",
    "elif diadasemana == \"domingo\" or diadasemana == \"Domingo\" or diadasemana == \"DOMINGO\":\n",
    "    print(diadasemana, \"Dia de Netflix, Futebol ou cinema\")\n",
    "\n",
    "else:\n",
    "    print(diadasemana, \"Dia de Estudar ou Trabalhar\")\n"
   ]
  },
  {
   "cell_type": "code",
   "execution_count": 4,
   "metadata": {},
   "outputs": [
    {
     "name": "stdout",
     "output_type": "stream",
     "text": [
      "PODERÁ VOTAR\n"
     ]
    }
   ],
   "source": [
    "#9 programa para verificar se uma pessoa pode ou não votar em função da sua idade e do título de eleitor. caso a pessoa tenha 16 e ão tem titulo, não pode votar. Caso tenha 16 anos e tenha titulo, poderá votar. Caso tenha idade a baixo de 16 anos não podera votar\n",
    "\n",
    "idade = int(input(\"INSIRA A SUA IDADE\"))\n",
    "\n",
    "if idade >= 18:\n",
    "    print(\"VOTO OBRIGATÓRIO\")\n",
    "\n",
    "elif 16<= idade <=17:\n",
    "    quervotar = str(input(\"QUER VOTAR?)\"))[0:].lower()\n",
    "    if quervotar == 'sim':\n",
    "        titulo = str(input(\"TEM TITULO?)\"))[0:].lower()\n",
    "        if titulo == 'sim':\n",
    "            print(\"PODERÁ VOTAR\")\n",
    "        else:\n",
    "            print(\"VOCÊ OPTOU POR NÃO VOTAR\")\n",
    "\n",
    "else:\n",
    "    print(\"NÃO PODERÁ VOTAR\")"
   ]
  },
  {
   "cell_type": "code",
   "execution_count": 5,
   "metadata": {},
   "outputs": [],
   "source": [
    "letra = str(input(\"Letra?\")).lowe()\n",
    "palavra = str(input(\"Palavra\")).lowe()\n",
    "\n",
    "# in (esta dentro)\n",
    "\n",
    "if letra in palavra:\n",
    "    print(letra)\n",
    "\n",
    "else:\n",
    "    print(\"Não esta na palavra\")"
   ]
  },
  {
   "cell_type": "code",
   "execution_count": 3,
   "metadata": {},
   "outputs": [
    {
     "name": "stdout",
     "output_type": "stream",
     "text": [
      "amarelo\n"
     ]
    }
   ],
   "source": [
    "list = [\"amarelo\", \"azul\", \"verde\"]\n",
    "\n",
    "print(list[0])\n",
    "\n"
   ]
  }
 ],
 "metadata": {
  "kernelspec": {
   "display_name": "Python 3",
   "language": "python",
   "name": "python3"
  },
  "language_info": {
   "codemirror_mode": {
    "name": "ipython",
    "version": 3
   },
   "file_extension": ".py",
   "mimetype": "text/x-python",
   "name": "python",
   "nbconvert_exporter": "python",
   "pygments_lexer": "ipython3",
   "version": "3.11.8"
  },
  "orig_nbformat": 4
 },
 "nbformat": 4,
 "nbformat_minor": 2
}
