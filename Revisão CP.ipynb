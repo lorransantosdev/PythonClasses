{
 "cells": [
  {
   "cell_type": "code",
   "execution_count": null,
   "metadata": {},
   "outputs": [],
   "source": [
    "# Media simple\n",
    "\n",
    "\"\"\"media = (nota 1 + nota 2)/2\"\"\"\n",
    "\n",
    "\n",
    "\n",
    "\n",
    "\"\"\"Media Ponderada\"\"\"\n",
    "\"\"\"temperaturas para avaliar o crescimento da cana de acucar\n",
    "\"\"\"\"\"\"\n"
   ]
  },
  {
   "cell_type": "code",
   "execution_count": 1,
   "metadata": {},
   "outputs": [
    {
     "name": "stdout",
     "output_type": "stream",
     "text": [
      "11.75\n"
     ]
    }
   ],
   "source": [
    "n1 = float(input(\"INSIRA N1\"))\n",
    "n2 = float(input(\"INSIRA N2\"))\n",
    "n3 = float(input(\"INSIRA N3\"))\n",
    "n4 = float(input(\"INSIRA N4\"))\n",
    "n5 = float(input(\"INSIRA N5\"))\n",
    "\n",
    "p1 = float(input(\"INSIRA p1\"))\n",
    "p2 = float(input(\"INSIRA p2\"))\n",
    "p3 = float(input(\"INSIRA p3\"))\n",
    "p4 = float(input(\"INSIRA p4\"))\n",
    "p5 = float(input(\"INSIRA p5\"))\n",
    "\n",
    "\n",
    "mediaPonderada = (n1*p1 + n2*p2 + n3*p3 + n4*p4 + n5*p5)/(p1+p2+p3+p4+p5)\n",
    "\n",
    "print(mediaPonderada)"
   ]
  },
  {
   "cell_type": "code",
   "execution_count": 2,
   "metadata": {},
   "outputs": [
    {
     "name": "stdout",
     "output_type": "stream",
     "text": [
      "Seja Bem Vindo Lorransantosdev\n"
     ]
    }
   ],
   "source": [
    "usuario = input(\"INSIRA O USUARIO\")\n",
    "email = input(\"INSIRA O EMAIL\").lower()\n",
    "senha = input(\"INSIRA A SENHA\")\n",
    "codigo = input(\"INSIRA UM CÓDIGO\")\n",
    "\n",
    "if usuario == \"Lorransantosdev\":\n",
    "    if email == \"lorransantossarmentol@gmail.com\":\n",
    "        if senha == \"Lo05*\":\n",
    "            if codigo == \"123456\":\n",
    "                print(\"Seja Bem Vindo {}\".format(usuario))\n",
    "else:\n",
    "    print(\"Tente Novamente\")\n"
   ]
  },
  {
   "cell_type": "code",
   "execution_count": 7,
   "metadata": {},
   "outputs": [
    {
     "name": "stdout",
     "output_type": "stream",
     "text": [
      "Seu importo é de: 1944.0\n"
     ]
    }
   ],
   "source": [
    "salario = float(input(\"INSIRA O SEU SALÁRIO\"))\n",
    "\n",
    "if salario <= 1412.00:\n",
    "    print(\"Seu importo é de:\", (salario*12)*0.075)\n",
    "elif salario < 2666.68:\n",
    "    print(\"Seu importo é de:\", (salario*12)*0.09)\n",
    "elif salario < 4000.03:\n",
    "    print(\"Seu importo é de:\", (salario*12)*0.12)\n",
    "elif salario < 7786.02:\n",
    "    print(\"Seu importo é de:\", (salario*12)*0.14)\n",
    "else:\n",
    "    print(\"Seu importo é de:\", (salario*12)*0.275)"
   ]
  },
  {
   "cell_type": "code",
   "execution_count": null,
   "metadata": {},
   "outputs": [],
   "source": [
    "tempoConvenio = int(input(\"INSIRA O TEMPO DO SEU CONVENIO EM MESES\"))\n",
    "\n",
    "\n",
    "if tempoConvenio <= 6:\n",
    "    print(\"Poderá fazer os exames de sangue\")\n",
    "elif "
   ]
  }
 ],
 "metadata": {
  "kernelspec": {
   "display_name": "Python 3",
   "language": "python",
   "name": "python3"
  },
  "language_info": {
   "codemirror_mode": {
    "name": "ipython",
    "version": 3
   },
   "file_extension": ".py",
   "mimetype": "text/x-python",
   "name": "python",
   "nbconvert_exporter": "python",
   "pygments_lexer": "ipython3",
   "version": "3.11.9"
  }
 },
 "nbformat": 4,
 "nbformat_minor": 2
}
