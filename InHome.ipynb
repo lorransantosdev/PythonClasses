{
 "cells": [
  {
   "cell_type": "code",
   "execution_count": 1,
   "metadata": {},
   "outputs": [
    {
     "name": "stdout",
     "output_type": "stream",
     "text": [
      "Nice to meet you Lorran !\n"
     ]
    }
   ],
   "source": [
    "# .format(variavel) serve para o texto ser formatado dentro dos colchetes\n",
    "\n",
    "name = str(input(\"Whats your name?\"))\n",
    "print(\"Nice to meet you {}!\".format(name))\n"
   ]
  },
  {
   "cell_type": "code",
   "execution_count": 1,
   "metadata": {},
   "outputs": [
    {
     "name": "stdout",
     "output_type": "stream",
     "text": [
      "The sum of the numbers 10.0 and 10.0 is 20.0\n"
     ]
    }
   ],
   "source": [
    "# float (number decimal)\n",
    "\n",
    "n1 = float(input(\"Enter a number ONE\"))\n",
    "n2 = float(input(\"Speak a number Two\"))\n",
    "\n",
    "sum = n1 + n2\n",
    "\n",
    "print(\"The sum of the numbers {} and {} is {}\".format(n1, n2, sum))"
   ]
  },
  {
   "cell_type": "code",
   "execution_count": null,
   "metadata": {},
   "outputs": [],
   "source": [
    "something = input(\"Type something:\")\n",
    "\n",
    "print(\"O tipo primitivo desse valor é\", type(a))\n",
    "print(\"Só tem espaço\", a.isspace())\n",
    "print(\"É um número\", a.isnumberic())\n",
    "print(\"É alfabético\", a.isalpha())\n",
    "print(\"É alfanumérico\", a.isalnum())\n",
    "print(\"Está em maiusculo?\", a.isupper())\n",
    "print(\"Está em minusculo?\", a.islower())\n",
    "print(\"Está capitalizada?\", a.istitle())\n",
    "\n"
   ]
  },
  {
   "cell_type": "code",
   "execution_count": 11,
   "metadata": {},
   "outputs": [
    {
     "name": "stdout",
     "output_type": "stream",
     "text": [
      "o numero 7845 é IMPAR\n"
     ]
    }
   ],
   "source": [
    "# Programa impar ou par\n",
    "\n",
    "numero = int(input(\"INSIRA UM NUMERO QUALQUER!\"))\n",
    "\n",
    "if numero %2 ==0:\n",
    "    print(\"o numero {} é PAR!\" .format(numero))\n",
    "else:\n",
    "    print(\"o numero {} é IMPAR\" .format(numero))"
   ]
  },
  {
   "cell_type": "code",
   "execution_count": 3,
   "metadata": {},
   "outputs": [
    {
     "name": "stdout",
     "output_type": "stream",
     "text": [
      "roxo\n"
     ]
    }
   ],
   "source": [
    "#Dados dois numeros, imprima \"azul\" se ambos forem positivos, \"laranja\" se ambos forem ímpares ou \"roxo\" nos demais casos\n",
    "\n",
    "n1 = float(input(\"Insira um numero\"))\n",
    "n2 = float(input(\"Insira um numero\"))\n",
    "\n",
    "if n1 > 0 and n2 >0:\n",
    "    print(\"azul\")\n",
    "elif n1 %2 != 0:\n",
    "    print (\"laranja\")\n",
    "else:\n",
    "    print(\"roxo\")\n"
   ]
  },
  {
   "cell_type": "code",
   "execution_count": 9,
   "metadata": {},
   "outputs": [
    {
     "name": "stdout",
     "output_type": "stream",
     "text": [
      "Analyzing the number: 0, its predecessor is: -1 and its successor is: 1.\n"
     ]
    }
   ],
   "source": [
    "#write a number and display its prodecessor and sucecssor \n",
    "\n",
    "numero = int(input(\"ENTER A NUMBER\"))\n",
    "\n",
    "antecessor = numero - 1\n",
    "sucessor = numero + 1\n",
    "\n",
    "print(\"Analyzing the number: {}, its predecessor is: {} and its successor is: {}.\" .format(numero, antecessor, sucessor))\n"
   ]
  },
  {
   "cell_type": "code",
   "execution_count": 12,
   "metadata": {},
   "outputs": [
    {
     "name": "stdout",
     "output_type": "stream",
     "text": [
      "Analyzing the number 81, its duble this number is 162, its triple 243 and its raiz is 9.0.\n"
     ]
    }
   ],
   "source": [
    "#create a program that display the double, triple and raiz of a number \n",
    "\n",
    "number = int(input(\"ENTER A NUMBER\"))\n",
    "\n",
    "double = number * 2\n",
    "triple = number * 3\n",
    "raiz = number ** (1/2)\n",
    "\n",
    "print(\"Analyzing the number {}, its duble this number is {}, its triple {} and its raiz is {}.\" .format(number, double, triple, raiz))"
   ]
  },
  {
   "cell_type": "code",
   "execution_count": 17,
   "metadata": {},
   "outputs": [
    {
     "name": "stdout",
     "output_type": "stream",
     "text": [
      "100.0 x 1 = 100.0\n",
      "100.0 x 2 = 200.0\n",
      "100.0 x 3 = 300.0\n",
      "100.0 x 4 = 400.0\n",
      "100.0 x 5 = 500.0\n",
      "100.0 x 6 = 600.0\n",
      "100.0 x 7 = 700.0\n",
      "100.0 x 8 = 800.0\n",
      "100.0 x 9 = 900.0\n",
      "100.0 x 10 = 1000.0\n"
     ]
    }
   ],
   "source": [
    "#create a program that display the tabuada\n",
    "\n",
    "number = float(input(\"Enter a number\"))\n",
    "\n",
    "mult_1 = number * 1 \n",
    "mult_2 = number * 2 \n",
    "mult_3 = number * 3 \n",
    "mult_4 = number * 4 \n",
    "mult_5 = number * 5 \n",
    "mult_6 = number * 6 \n",
    "mult_7 = number * 7 \n",
    "mult_8 = number * 8 \n",
    "mult_9 = number * 9 \n",
    "mult_10 = number * 10\n",
    "\n",
    "print(\"{} x {} = {}\" .format(number, 1, mult_1))\n",
    "print(\"{} x {} = {}\" .format(number, 2, mult_2))\n",
    "print(\"{} x {} = {}\" .format(number, 3, mult_3))\n",
    "print(\"{} x {} = {}\" .format(number, 4, mult_4))\n",
    "print(\"{} x {} = {}\" .format(number, 5, mult_5))\n",
    "print(\"{} x {} = {}\" .format(number, 6, mult_6))\n",
    "print(\"{} x {} = {}\" .format(number, 7, mult_7))\n",
    "print(\"{} x {} = {}\" .format(number, 8, mult_8))\n",
    "print(\"{} x {} = {}\" .format(number, 9, mult_9))\n",
    "print(\"{} x {} = {}\" .format(number, 10, mult_10))"
   ]
  },
  {
   "cell_type": "code",
   "execution_count": 18,
   "metadata": {},
   "outputs": [
    {
     "name": "stdout",
     "output_type": "stream",
     "text": [
      "you can buy: U$20.0 \n"
     ]
    }
   ],
   "source": [
    "#create a program that read how much money a person has in their wallet and show how many dollars they can buy\n",
    "\n",
    "money = float(input(\"ENTER THE YOUR WALLET VALUE\") )\n",
    "\n",
    "dollar = money / 5\n",
    "\n",
    "print(\"you can buy: U${} \" .format(dollar))"
   ]
  }
 ],
 "metadata": {
  "kernelspec": {
   "display_name": "Python 3",
   "language": "python",
   "name": "python3"
  },
  "language_info": {
   "codemirror_mode": {
    "name": "ipython",
    "version": 3
   },
   "file_extension": ".py",
   "mimetype": "text/x-python",
   "name": "python",
   "nbconvert_exporter": "python",
   "pygments_lexer": "ipython3",
   "version": "3.11.8"
  }
 },
 "nbformat": 4,
 "nbformat_minor": 2
}
