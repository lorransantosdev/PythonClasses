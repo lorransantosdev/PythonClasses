{
 "cells": [
  {
   "cell_type": "code",
   "execution_count": 17,
   "metadata": {},
   "outputs": [
    {
     "name": "stdout",
     "output_type": "stream",
     "text": [
      "Você tem somente 2 tentativa!\n",
      "Parabéns! Você acertou a palavra\n"
     ]
    }
   ],
   "source": [
    "#Neste jogo, o usuário 1 escolhe a palavra a ser adivinhada. O usuário 2 tem três tentativas para adivinhar a palavra. Se acertar, o programa imprime \"Parabéns! Você acertou a palavra:\". Caso contrário, o programa informa quantas tentativas restantes o usuário 2 tem. Se o usuário 2 não adivinhar corretamente, o programa informa que ele perdeu\n",
    "\n",
    "\n",
    "palavra = input(\"USUÁRIO 1 ESCOLHA A PALAVRA\")\n",
    "usuario2 = input(\"USUÁRIO 2, QUAL A PALAVRA?\")\n",
    "\n",
    "if usuario2 != palavra:\n",
    "    print(\"Você tem somente 2 tentativa!\")\n",
    "    usuario2 = input(\"USUÁRIO 2, QUAL A PALAVRA? (ultima tentativa)\")\n",
    "\n",
    "    if usuario2 != palavra:\n",
    "        print(\"Você tem somente 1 tentativa!\")\n",
    "        usuario2 = input(\"USUÁRIO 2, QUAL A PALAVRA? (ultima tentativa)\")\n",
    "        if usuario2 != palavra:\n",
    "            print(\"Você perdeu!\")\n",
    "        else:\n",
    "            print(\"Parabéns! Você acertou a palavra\") \n",
    "    else:\n",
    "            print(\"Parabéns! Você acertou a palavra\") \n",
    "else:\n",
    "    print(\"Parabéns! Você acertou a palavra\")\n"
   ]
  },
  {
   "cell_type": "code",
   "execution_count": null,
   "metadata": {},
   "outputs": [],
   "source": [
    "# Crie um programa que solicite a quantidade de 4 produtos e seus respectivos valores. Em seguida, exiba os valores da relação preço x quantidade dos produtos em ordem crescente. Utilize apenas os conceitos apresentados em sala de aula.\n",
    "\n",
    "qntP1 = int(input(\"QUANTIDADE PRODUTO 1\"))\n",
    "valor1 = float(input(\"VALOR PRODUTO 1\"))\n",
    "\n",
    "qntP2 = int(input(\"QUANTIDADE PRODUTO 2\"))\n",
    "valor2 = float(input(\"VALOR PRODUTO 2\"))\n",
    "\n",
    "qntP3 = int(input(\"QUANTIDADE PRODUTO 3\"))\n",
    "valor3 = float(input(\"VALOR PRODUTO 3\"))\n",
    "\n",
    "qntP4 = int(input(\"QUANTIDADE PRODUTO 4\"))\n",
    "valor4 = float(input(\"VALOR PRODUTO 4\"))\n",
    "\n",
    "a = qntP1 * valor1\n",
    "b = qntP2 * valor2\n",
    "c = qntP3 * valor3\n",
    "d = qntP4 * valor4\n",
    "\n",
    "if a<b<c<d:\n",
    "    print(a,b,c,d)\n",
    "elif b<c<d<a:\n",
    "    print(b,c,d,a)\n",
    "elif c<d<a<b:\n",
    "    print(c,d,a,b,)\n",
    "elif d<a<b<c:\n",
    "    print(d,a,b,c)\n",
    "#recomeço com c primeiro que b\n",
    "elif a<c<b<d:\n",
    "    print(a,c,b,d)\n",
    "elif c<b<d<a:\n",
    "    print(c,b,d,a)\n",
    "elif b<d<a<c:\n",
    "    print(b,d,a,c)\n",
    "elif d<a<c<b:\n",
    "    print(d,a,c,b)\n",
    "#recomeço com d primeiro que c\n",
    "elif a<b<d<c:\n",
    "    print(a,b,d,c)\n",
    "elif b<d<c<a:\n",
    "    print(b,d,c,a)\n",
    "elif d<c<a<b:\n",
    "    print(d,c,a,b)\n",
    "else:\n",
    "    print(c,a,b<d)\n",
    "#até o 23 elif e 1 else\n",
    "\n"
   ]
  },
  {
   "cell_type": "code",
   "execution_count": 21,
   "metadata": {},
   "outputs": [
    {
     "name": "stdout",
     "output_type": "stream",
     "text": [
      "Você tem mais uma tentativa\n",
      "Usuário bloqueado\n"
     ]
    }
   ],
   "source": [
    "# Desenvolva um programa que permita ao usuário inserir seu nome de usuário, senha e uma palavra-chave. Em seguida, crie uma lógica para verificar o nome de usuário, senha e palavra-chave. Caso estejam corretos, exiba \"Acesso permitido\". Caso haja duas falhas de entrada, informe que o usuário será bloqueado.\n",
    "\n",
    "\n",
    "usuario = input(\"QUAL SEU USUARIO?\")\n",
    "\n",
    "senha = input(\"QUAL A SENHA?\")\n",
    "\n",
    "palavraChave = input(\"QUAL A PALAVRA CHAVE\")\n",
    "\n",
    "if usuario != \"Lorran\" and senha != \"123\" and palavraChave != \"fiap\":\n",
    "    print(\"Você tem mais uma tentativa\")\n",
    "    usuario = input(\"QUAL SEU USUARIO?\")\n",
    "    senha = input(\"QUAL A SENHA?\")\n",
    "    palavraChave = input(\"QUAL A PALAVRA CHAVE\")\n",
    "    if usuario != \"Lorran\" and senha != \"123\" and palavraChave != \"fiap\":\n",
    "        print(\"Usuário bloqueado\")\n",
    "    else:\n",
    "        print(\"Acesso permitido\")\n",
    "else:\n",
    "    print(\"Acesso permitido\")\n",
    "\n",
    "            \n",
    "\n",
    "\n",
    "\n",
    "\n"
   ]
  },
  {
   "cell_type": "code",
   "execution_count": null,
   "metadata": {},
   "outputs": [],
   "source": [
    "# Desenvolva um conversor de moeda que permita ao usuário inserir a moeda que deseja converter. Em seguida, crie uma estrutura para converter a moeda escolhida para três moedas selecionadas pelo usuário. Você definirá a relação de conversão das moedas.\n",
    "\n",
    "#Moeda pre-definida, REAL.\n",
    "\n",
    "conversao = input(\"MOEDA CONVERSAO\")\n",
    "valor = float(input(\"INSIRA O VALOR\"))\n",
    "\n",
    "\n",
    "if conversao == \"Dolar\":\n",
    "    print(\"Conversao de real para dolar é:\", valor * 5)\n",
    "elif conversao == \"Euro\":\n",
    "    print(\"Conversao de real para euro é:\", valor * 6)\n",
    "else:\n",
    "    print(\"Conversao de real para pesos é:\", valor * 7)"
   ]
  },
  {
   "cell_type": "code",
   "execution_count": 22,
   "metadata": {},
   "outputs": [
    {
     "name": "stdout",
     "output_type": "stream",
     "text": [
      "Valor1= 129.4176207068193%, Valor2= 64.70881035340965%, Valor3= 18.1184668989547%, Valor4 = 5.176704828272772%\n"
     ]
    }
   ],
   "source": [
    "#Crie um programa para calcular a média ponderada de 4 valores de vendas com entrada de dados pelo usuário. Em seguida, exiba a porcentagem de cada valor de venda em relação à média ponderada.\n",
    "\n",
    "valor1 = float(input(\"VALOR PRODUTO 1\"))\n",
    "p1 = int(input(\"PESO PRODUTO 1\"))\n",
    "\n",
    "valor2 = float(input(\"VALOR PRODUTO 2\"))\n",
    "p2 = int(input(\"PESO PRODUTO 2\"))\n",
    "\n",
    "valor3 = float(input(\"VALOR PRODUTO 3\"))\n",
    "p3 = int(input(\"PESO PRODUTO 3\"))\n",
    "\n",
    "valor4 = float(input(\"VALOR PRODUTO 4\"))\n",
    "p4 = int(input(\"PESO PRODUTO 4\"))\n",
    "\n",
    "\n",
    "mediaPonderada = (valor1*p1 + valor2*p2 + valor3*p3 + valor4*p4)/(p1 + p2 + p3 +p4)\n",
    "\n",
    "porcenta1 = (valor1/mediaPonderada)*100\n",
    "\n",
    "porcenta2 = (valor2/mediaPonderada)*100\n",
    "\n",
    "porcenta3 = (valor3/mediaPonderada)*100\n",
    "\n",
    "porcenta4 = (valor4/mediaPonderada)*100\n",
    "\n",
    "print(\"Valor1= {}%, Valor2= {}%, Valor3= {}%, Valor4 = {}%\" .format(porcenta1,porcenta2,porcenta3,porcenta4))"
   ]
  },
  {
   "cell_type": "code",
   "execution_count": 24,
   "metadata": {},
   "outputs": [
    {
     "name": "stdout",
     "output_type": "stream",
     "text": [
      "Caro Lorran é necessário verificar os requisitos de visto para a sua entrada no país.\n"
     ]
    }
   ],
   "source": [
    "# Você é responsável pela verificação dos passaportes dos passageiros que chegam ao aeroporto internacional. Desenvolva um programa que permita a entrada dos dados do passageiro (nome, nacionalidade e número do passaporte) e verifique se o passaporte é americano, britânico, alemão ou brasileiro. Se o passageiro for brasileiro, exiba uma mensagem de boas-vindas e informe que não é necessário visto para entrada no país. Caso contrário, exiba uma mensagem informando que o passageiro precisa verificar os requisitos de visto para entrada no país.\n",
    "\n",
    "nome = input(\"INSIRA O SEU NOME\")\n",
    "nacionalidade = input(\"INSIRA A SUA NACIONALIDADE\")\n",
    "passaporte = int(input(\"INSIRA O SEU PASSAPORTE\"))\n",
    "\n",
    "if nacionalidade == \"brasileiro\":\n",
    "    print(\"Boas-vindas {}! Não é necessário visto para entrada no Brasil. O sue passaporte é: {}\".format(nome,passaporte))\n",
    "else:\n",
    "    print(\"Caro {} é necessário verificar os requisitos de visto para a sua entrada no país.\".format(nome))\n",
    "\n"
   ]
  }
 ],
 "metadata": {
  "kernelspec": {
   "display_name": "Python 3",
   "language": "python",
   "name": "python3"
  },
  "language_info": {
   "name": "python",
   "version": "3.11.4"
  },
  "orig_nbformat": 4
 },
 "nbformat": 4,
 "nbformat_minor": 2
}
