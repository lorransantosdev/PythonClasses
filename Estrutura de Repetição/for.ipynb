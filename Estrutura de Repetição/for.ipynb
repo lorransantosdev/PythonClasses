{
 "cells": [
  {
   "cell_type": "code",
   "execution_count": null,
   "metadata": {},
   "outputs": [],
   "source": [
    "#aula 9 - 04/19/24  "
   ]
  },
  {
   "cell_type": "code",
   "execution_count": 3,
   "metadata": {},
   "outputs": [
    {
     "name": "stdout",
     "output_type": "stream",
     "text": [
      "a\n",
      "b\n",
      "c\n",
      "d\n",
      "e\n"
     ]
    }
   ],
   "source": [
    "list_car = [\"a\",\"b\",\"c\",\"d\",\"e\"]\n",
    "\n",
    "for k in list_car:\n",
    "    print(k)\n",
    "    if k == \"c\":\n",
    "        break"
   ]
  },
  {
   "cell_type": "code",
   "execution_count": null,
   "metadata": {},
   "outputs": [],
   "source": [
    "for k in reage(1, 10):\n",
    "    if k %2 == 0:\n",
    "        continue # vai continuar o k, sem printar (SO FUNCIONA COM CONDIÇÃO)\n",
    "    print(k)"
   ]
  },
  {
   "cell_type": "code",
   "execution_count": null,
   "metadata": {},
   "outputs": [],
   "source": [
    "list_car = [\"a\",\"b\",\"c\",\"d\",\"e\"]\n",
    "\n",
    "for k in list_car:\n",
    "    if k == \"c\": \n",
    "        continue #não vai mostrar o \"c\"\n",
    "    print(k)"
   ]
  },
  {
   "cell_type": "code",
   "execution_count": null,
   "metadata": {},
   "outputs": [],
   "source": [
    "palavra = \"hoje é dia de happy hour\"\n",
    "\n",
    "for k in palavra:\n",
    "    print(k)"
   ]
  },
  {
   "cell_type": "code",
   "execution_count": null,
   "metadata": {},
   "outputs": [],
   "source": [
    "\"\"\" Exercícios\"\"\"\n",
    "\n",
    "# 1. crie uma estrutura para parar na letra a.\n",
    "# 2. Crie uma estrutura para não mostrar as vogais o\n",
    "# 3. Crie um programa para solicitar ao usuário em paragráfo. Em seguida crie uma estrutura para quebrar/parar em uma palavra selecionada pelo usuário.\n",
    "# 4. Crie um programa para solicitar ao usuário um texto. Em seguida, crie uma estrutura para não mostrar uma palavra selecionada pelo usuário.\n",
    "# 5. Crie um programa para solicitar nome, sobrenome, cpf e rg de quatro pessoas."
   ]
  },
  {
   "cell_type": "code",
   "execution_count": null,
   "metadata": {},
   "outputs": [],
   "source": [
    "# 1. crie uma estrutura para parar na letra a.\n",
    "\n",
    "palavra = \"hoje é dia de happy hour\"\n",
    "\n",
    "for i in palavra:\n",
    "    print(i)\n",
    "    if i == \"a\":\n",
    "        break\n",
    "\n"
   ]
  },
  {
   "cell_type": "code",
   "execution_count": null,
   "metadata": {},
   "outputs": [],
   "source": [
    "# 2. Crie uma estrutura para não mostrar as vogais o\n",
    "\n",
    "palavra = \"hoje é dia de happy hour\"\n",
    "\n",
    "for k in palavra:\n",
    "    if k == \"o\":\n",
    "        continue\n",
    "    print(k)"
   ]
  },
  {
   "cell_type": "code",
   "execution_count": null,
   "metadata": {},
   "outputs": [],
   "source": [
    "#ERRO\n",
    "\n",
    "# 3. Crie um programa para solicitar ao usuário em paragráfo. Em seguida crie uma estrutura para quebrar/parar em uma palavra selecionada pelo usuário.\n",
    "\n",
    "paragrafo = input(\"Write a paragraph:\")\n",
    "\n",
    "wordOcult = input(\"Write word ocult?\")\n",
    "\n",
    "for k in paragrafo:\n",
    "    print(k)\n",
    "    if k == wordOcult:\n",
    "        break"
   ]
  },
  {
   "cell_type": "code",
   "execution_count": null,
   "metadata": {},
   "outputs": [],
   "source": [
    "#ERRO\n",
    "\n",
    "# 4. Crie um programa para solicitar ao usuário um texto. Em seguida, crie uma estrutura para não mostrar uma palavra selecionada pelo usuário.\n",
    "\n",
    "passWord = input(\"ENTER PASSWORD\")\n",
    "\n",
    "ocult = input(\"ENTER OCULT\")\n",
    "\n",
    "for k in passWord:\n",
    "    if k == ocult:\n",
    "        continue\n",
    "    print(k)\n",
    "        \n",
    "\n",
    "\n"
   ]
  },
  {
   "cell_type": "code",
   "execution_count": null,
   "metadata": {},
   "outputs": [],
   "source": [
    "\n",
    "palavra = \"hojE é dIa dE happy HOur\"\n",
    "vogais = \"aeiouAEIOU\"\n",
    "\n",
    "contador = 0\n",
    "\n",
    "for i in palavra:\n",
    "    if i in vogais:\n",
    "        contador +=1 #Conta quantas vezes aparecem as variaveis\n",
    "print(contador)"
   ]
  },
  {
   "cell_type": "code",
   "execution_count": null,
   "metadata": {},
   "outputs": [],
   "source": [
    "# APPEDN - adiciona um elemento ao final da lista = .append('Python')\n",
    "\n",
    "# example:\n",
    "\n",
    "palavra = ['hoje', 'é', 'dia', 'de', 'happy']\n",
    "palavra.append('hour')\n",
    "palavra"
   ]
  },
  {
   "cell_type": "code",
   "execution_count": 3,
   "metadata": {},
   "outputs": [
    {
     "data": {
      "text/plain": [
       "'hoje.é.dia.de.happy.hour'"
      ]
     },
     "execution_count": 3,
     "metadata": {},
     "output_type": "execute_result"
    }
   ],
   "source": [
    "# with JOIN \n",
    "\n",
    "palavra = ['hoje', 'é', 'dia', 'de', 'happy']\n",
    "palavra.append('hour')\n",
    "palavra\n",
    "\n",
    "texto = \" \". join(palavra) #juntas os elementos olhando para a virgula\n",
    "texto"
   ]
  },
  {
   "cell_type": "code",
   "execution_count": null,
   "metadata": {},
   "outputs": [],
   "source": [
    "cidades = []\n",
    "\n",
    "cidade = input(\"Digite uma cidade\")\n",
    "\n",
    "cidades.append(cidade)\n",
    "cidades"
   ]
  },
  {
   "cell_type": "code",
   "execution_count": null,
   "metadata": {},
   "outputs": [],
   "source": [
    "cidades = []\n",
    "\n",
    "cidade = input(\"Digite uma cidade\")\n",
    "\n",
    "cidades.append(cidade)\n",
    "cidades.append(input(\"Digite uma cidade\"))\n",
    "cidades.append(input(\"Digite uma cidade\"))"
   ]
  },
  {
   "cell_type": "code",
   "execution_count": null,
   "metadata": {},
   "outputs": [],
   "source": [
    "# Calcular a medai entre duas notas solicitando 3 vezes a nota 1 e 2\n",
    "\n",
    "for i in range(3):\n",
    "    nota1 = float(input(\"digite a primeira nota\"))\n",
    "    nota2 = float(input(\"digite a segunda nota\"))\n",
    "\n",
    "    media = (nota1 + nota2) / 2\n",
    "    print(\"meida é \", media)"
   ]
  },
  {
   "cell_type": "code",
   "execution_count": 2,
   "metadata": {},
   "outputs": [
    {
     "name": "stdout",
     "output_type": "stream",
     "text": [
      "Lorran\n"
     ]
    }
   ],
   "source": [
    "# 3. Crie um programa para solicitar ao usuário em paragráfo. Em seguida crie uma estrutura para quebrar/parar em uma palavra selecionada pelo usuário.\n",
    "textos = []\n",
    "\n",
    "for i in range(3):\n",
    "    texto = input(\"INSIRA UMA PALAVRA\")\n",
    "    textos.append(texto)\n",
    "\n",
    "wordBreak = input(\"INSIRA UMA PALAVRA PARA QUEBRAR\")\n",
    "\n",
    "for k in textos:\n",
    "    if k in wordBreak:\n",
    "        break\n",
    "    print(k)\n"
   ]
  },
  {
   "cell_type": "code",
   "execution_count": 16,
   "metadata": {},
   "outputs": [
    {
     "name": "stdout",
     "output_type": "stream",
     "text": [
      "lorran\n",
      "dos\n"
     ]
    }
   ],
   "source": [
    "# 4. Crie um programa para solicitar ao usuário um texto. Em seguida, crie uma estrutura para não mostrar uma palavra selecionada pelo usuário.\n",
    "\n",
    "textos = []\n",
    "\n",
    "for i in range(3):\n",
    "    texto = input(\"INSIRA UMA PALAVRA\")\n",
    "    textos.append(texto)\n",
    "\n",
    "wordBreak = input(\"INSIRA UMA PALAVRA OCULTAR\")\n",
    "\n",
    "for k in textos:\n",
    "    if k in wordBreak:\n",
    "        continue\n",
    "    print(k)"
   ]
  },
  {
   "cell_type": "code",
   "execution_count": 3,
   "metadata": {},
   "outputs": [],
   "source": [
    "# 5. Crie um programa para solicitar nome, sobrenome, cpf e rg de quatro pessoas.\n",
    "\n",
    "informacoes1 = []\n",
    "informacoes2 = []\n",
    "informacoes3 = []\n",
    "\n",
    "for i in range(4):\n",
    "    nome1 = input(\"QUAL SEU NOME?\")\n",
    "    sobrenome1 = input(\"QUAL SEU SOBRENOME?\")\n",
    "    cpf1 = input(\"QUAL SEU CPF?\")\n",
    "    rg1 = input(\"QUAL SEU RG?\")\n",
    "    informacoes1.append(nome1)\n",
    "    informacoes1.append(sobrenome1)\n",
    "    informacoes1.append(cpf1)\n",
    "    informacoes1.append(rg1)\n",
    "\n",
    "    nome2 = input(\"QUAL SEU NOME?\")\n",
    "    sobrenome2 = input(\"QUAL SEU SOBRENOME?\")\n",
    "    cpf2 = input(\"QUAL SEU CPF?\")\n",
    "    rg2 = input(\"QUAL SEU RG?\")\n",
    "    informacoes2.append(nome2)\n",
    "    informacoes2.append(sobrenome2)\n",
    "    informacoes2.append(cpf2)\n",
    "    informacoes2.append(rg2)\n",
    "\n",
    "    nome3 = input(\"QUAL SEU NOME?\")\n",
    "    sobrenome3 = input(\"QUAL SEU SOBRENOME?\")\n",
    "    cpf3 = input(\"QUAL SEU CPF?\")\n",
    "    rg3 = input(\"QUAL SEU RG?\")\n",
    "    informacoes3.append(nome3)\n",
    "    informacoes3.append(sobrenome3)\n",
    "    informacoes3.append(cpf3)\n",
    "    informacoes3.append(rg3)\n",
    "\n",
    "\n"
   ]
  },
  {
   "cell_type": "code",
   "execution_count": 3,
   "metadata": {},
   "outputs": [
    {
     "data": {
      "text/plain": [
       "[15, 30, 45]"
      ]
     },
     "execution_count": 3,
     "metadata": {},
     "output_type": "execute_result"
    }
   ],
   "source": [
    "# Crie um programa para somar os valores de duas listas\n",
    "\n",
    "lista1 = [10, 20, 30]\n",
    "lista2 = [5, 10, 15]\n",
    "\n",
    "somar = [lista1[i] + lista2[i] for i in range(len(lista1))]\n",
    "somar\n",
    "\n"
   ]
  },
  {
   "cell_type": "code",
   "execution_count": 4,
   "metadata": {},
   "outputs": [
    {
     "data": {
      "text/plain": [
       "[0.0, 4.0, 8.0, 12.0, 16.0, 20.0, 24.0, 28.0, 32.0, 36.0, 40.0]"
      ]
     },
     "execution_count": 4,
     "metadata": {},
     "output_type": "execute_result"
    }
   ],
   "source": [
    "lista1 = []\n",
    "numero = float(input(\"INSIRA UMA NUMERO\"))\n",
    "lista1.append(numero)\n",
    "lista2 = [0,1,2,3,4,5,6,7,8,9,10]\n",
    "\n",
    "\n",
    "mult= [lista1[0] * lista2[i] for i in range(len(lista2))]\n",
    "mult\n"
   ]
  },
  {
   "cell_type": "code",
   "execution_count": 3,
   "metadata": {},
   "outputs": [
    {
     "name": "stdout",
     "output_type": "stream",
     "text": [
      "Lorran\n",
      "Luana\n",
      "Graciela\n"
     ]
    }
   ],
   "source": [
    "nomes = [\"Lorran\", \"Luana\", \"Graciela\"]\n",
    "\n",
    "for item in nomes:\n",
    "    print(item)"
   ]
  },
  {
   "cell_type": "code",
   "execution_count": 5,
   "metadata": {},
   "outputs": [
    {
     "name": "stdout",
     "output_type": "stream",
     "text": [
      "L\n",
      "o\n",
      "r\n",
      "r\n",
      "a\n",
      "n\n"
     ]
    }
   ],
   "source": [
    "nome = \"Lorran\";\n",
    "\n",
    "for letra in nome:\n",
    "    print(letra)"
   ]
  },
  {
   "cell_type": "code",
   "execution_count": null,
   "metadata": {},
   "outputs": [],
   "source": [
    "for index in range(6,20,2): #6 start, 20 max, 2 jump "
   ]
  },
  {
   "cell_type": "code",
   "execution_count": 7,
   "metadata": {},
   "outputs": [
    {
     "name": "stdout",
     "output_type": "stream",
     "text": [
      "L 0\n",
      "o 1\n",
      "r 2\n",
      "r 3\n",
      "a 4\n",
      "n 5\n"
     ]
    }
   ],
   "source": [
    "for index in range(len(nome)):\n",
    "    print(nome[index], index)"
   ]
  },
  {
   "cell_type": "code",
   "execution_count": 9,
   "metadata": {},
   "outputs": [
    {
     "name": "stdout",
     "output_type": "stream",
     "text": [
      "Primeira Linha\n"
     ]
    },
    {
     "ename": "KeyError",
     "evalue": "'index'",
     "output_type": "error",
     "traceback": [
      "\u001b[1;31m---------------------------------------------------------------------------\u001b[0m",
      "\u001b[1;31mKeyError\u001b[0m                                  Traceback (most recent call last)",
      "Cell \u001b[1;32mIn[9], line 5\u001b[0m\n\u001b[0;32m      3\u001b[0m     \u001b[38;5;28mprint\u001b[39m(\u001b[38;5;124m\"\u001b[39m\u001b[38;5;124mPrimeira Linha\u001b[39m\u001b[38;5;124m\"\u001b[39m)\n\u001b[0;32m      4\u001b[0m \u001b[38;5;28;01melse\u001b[39;00m:\n\u001b[1;32m----> 5\u001b[0m     \u001b[38;5;28mprint\u001b[39m(\u001b[38;5;124;43m\"\u001b[39;49m\u001b[38;5;124;43mOutras Linhas \u001b[39;49m\u001b[38;5;132;43;01m{index}\u001b[39;49;00m\u001b[38;5;124;43m\"\u001b[39;49m\u001b[38;5;241;43m.\u001b[39;49m\u001b[43m \u001b[49m\u001b[38;5;28;43mformat\u001b[39;49m\u001b[43m(\u001b[49m\u001b[43mindex\u001b[49m\u001b[43m)\u001b[49m)\n",
      "\u001b[1;31mKeyError\u001b[0m: 'index'"
     ]
    }
   ],
   "source": [
    "for index in range(5):\n",
    "    if index == 0:\n",
    "        print(\"Primeira Linha\")\n",
    "    else:\n",
    "        print(\"Outras Linhas {index}\". format(index))"
   ]
  },
  {
   "cell_type": "code",
   "execution_count": 12,
   "metadata": {},
   "outputs": [
    {
     "name": "stdout",
     "output_type": "stream",
     "text": [
      "-----\n",
      "1\n",
      "2\n",
      "3\n",
      "-----\n",
      "4\n",
      "5\n",
      "6\n",
      "-----\n",
      "7\n",
      "8\n",
      "9\n",
      "-----\n",
      "0\n"
     ]
    }
   ],
   "source": [
    "matrix_numeros = [\n",
    "    [1,2,3],\n",
    "    [4,5,6],\n",
    "    [7,8,9],\n",
    "    [0],\n",
    "]\n",
    "\n",
    "for linha in matrix_numeros:\n",
    "    print(\"-----\")\n",
    "    for coluna in linha:\n",
    "        print(coluna)"
   ]
  },
  {
   "cell_type": "code",
   "execution_count": null,
   "metadata": {},
   "outputs": [],
   "source": [
    "for c in range(1,10):\n",
    "    n = int(input(\"Digite um valor\"))"
   ]
  },
  {
   "cell_type": "code",
   "execution_count": 15,
   "metadata": {},
   "outputs": [
    {
     "name": "stdout",
     "output_type": "stream",
     "text": [
      "Voce digitou 7 numeros pares e 6 numeros impares!\n",
      "[10, 50, 60, 40, 8, 2, 6] Valores Pares\n",
      "[9, 1, 3, 5, 97, 5] Valores Impares\n"
     ]
    }
   ],
   "source": [
    "n = 1;\n",
    "par = impar =0;\n",
    "listaPar = [];\n",
    "listaImpar = [];\n",
    "\n",
    "while n !=0:\n",
    "    n= int(input(\"White a number!\"));\n",
    "    if n != 0:\n",
    "        if n % 2 == 0:\n",
    "            par +=1;\n",
    "            listaPar.append(n);\n",
    "        else:\n",
    "            impar +=1;\n",
    "            listaImpar.append(n);\n",
    "print('Voce digitou {} numeros pares e {} numeros impares!'. format(par, impar))\n",
    "print(listaPar, \"Valores Pares\")\n",
    "print(listaImpar, \"Valores Impares\")"
   ]
  },
  {
   "cell_type": "code",
   "execution_count": null,
   "metadata": {},
   "outputs": [],
   "source": [
    "#AULA PASSADA 26/04"
   ]
  },
  {
   "cell_type": "code",
   "execution_count": 3,
   "metadata": {},
   "outputs": [
    {
     "name": "stdout",
     "output_type": "stream",
     "text": [
      "1\n",
      "2\n",
      "3\n",
      "4\n"
     ]
    }
   ],
   "source": [
    "lista_numerica = [1,2,3,4]\n",
    "\n",
    "for i in lista_numerica:\n",
    "    print(i)"
   ]
  },
  {
   "cell_type": "code",
   "execution_count": 2,
   "metadata": {},
   "outputs": [
    {
     "name": "stdout",
     "output_type": "stream",
     "text": [
      "a\n",
      "b\n",
      "c\n",
      "d\n"
     ]
    }
   ],
   "source": [
    "lista_letra = [\"a\",\"b\",\"c\",\"d\"]\n",
    "\n",
    "for i in lista_letra:\n",
    "    print(i)"
   ]
  },
  {
   "cell_type": "code",
   "execution_count": 1,
   "metadata": {},
   "outputs": [
    {
     "name": "stdout",
     "output_type": "stream",
     "text": [
      "a\n",
      "b\n",
      "c\n"
     ]
    }
   ],
   "source": [
    "lista_letra = [\"a\",\"b\",\"c\",\"d\"]\n",
    "\n",
    "for i in lista_letra:\n",
    "    print(i)\n",
    "    if i == \"c\":\n",
    "        break"
   ]
  },
  {
   "cell_type": "code",
   "execution_count": 5,
   "metadata": {},
   "outputs": [
    {
     "name": "stdout",
     "output_type": "stream",
     "text": [
      "10\n"
     ]
    }
   ],
   "source": [
    "soma = 0;\n",
    "lista_soma = [1,2,3,4,5,6]\n",
    "\n",
    "for i in range(len(lista_soma)):\n",
    "    soma += i\n",
    "print(soma)"
   ]
  },
  {
   "cell_type": "code",
   "execution_count": 6,
   "metadata": {},
   "outputs": [
    {
     "data": {
      "text/plain": [
       "[10, 20, 30, 40, 50]"
      ]
     },
     "execution_count": 6,
     "metadata": {},
     "output_type": "execute_result"
    }
   ],
   "source": [
    "list_number = [1,2,3,4,5]\n",
    "list_nova = []\n",
    "\n",
    "for k in list_number:\n",
    "    list_nova.append(k*10)\n",
    "list_nova"
   ]
  },
  {
   "cell_type": "code",
   "execution_count": null,
   "metadata": {},
   "outputs": [],
   "source": [
    "\n",
    "#crie um programa para solicitar nomes e inserir os respectivo nomes em uma lista.\n",
    "lista_nomes = []\n",
    "while True:\n",
    "    nome = input('Digite um nome para adicionar na lista(Digite \"pare\" para parar):')\n",
    "    if nome == \"pare\":\n",
    "        break\n",
    "    else:\n",
    "        lista_nomes.append(nome)\n",
    "for i in lista_nomes:\n",
    "    print(i)\n"
   ]
  },
  {
   "cell_type": "code",
   "execution_count": null,
   "metadata": {},
   "outputs": [],
   "source": [
    "lista_letras = [\"a\",\"b\",\"c\",\"d\"]\n",
    "lista_original = [1,2,3,4,5]\n",
    "\n",
    "lista_letras.append(lista_original)\n",
    "lista_letras"
   ]
  },
  {
   "cell_type": "code",
   "execution_count": null,
   "metadata": {},
   "outputs": [],
   "source": [
    "j= \"\"\n",
    "palavras = [\"python\", \"banco\"]\n",
    "for i in palavras:\n",
    "    for k in i:\n",
    "        j +=k\n",
    "print(j)"
   ]
  },
  {
   "cell_type": "code",
   "execution_count": null,
   "metadata": {},
   "outputs": [],
   "source": [
    "for i in range(1, 5):\n",
    "    for k in range(1, 5):\n",
    "        print(i*k, end = \" \")"
   ]
  },
  {
   "cell_type": "code",
   "execution_count": null,
   "metadata": {},
   "outputs": [],
   "source": [
    "#cire um programa que simule uma tabuada apenas de multiplicação\n",
    "numero = int(input(\"Digite o numero que você quer ver a tabuada\"))\n",
    "for i in range(1,11):\n",
    "    print(numero *i)"
   ]
  },
  {
   "cell_type": "code",
   "execution_count": null,
   "metadata": {},
   "outputs": [],
   "source": [
    "\n",
    "#cire um programa que simule uma tabuada apenas demultiplicação e insira em uma lista chamada lista_mult\n",
    "lista_mult= []\n",
    "numero = int(input(\"Digite o numero que você quer ver a tabuada\"))\n",
    "for i in range(1,11):\n",
    "    (lista_mult).append(numero *i)\n",
    "\n",
    "lista_mult"
   ]
  },
  {
   "cell_type": "code",
   "execution_count": null,
   "metadata": {},
   "outputs": [],
   "source": [
    "#crie um programa que simule operações (soma, subtração, multiplicação e divisão)\n",
    "for i in range(1, 11):\n",
    "    for k in range(1, 11):\n",
    "        print(i*k, end = ' ')     \n",
    "        print(i/k, end = ' ')  \n",
    "        print(i-k, end = ' ') \n",
    "        print(i+k, end = ' ')"
   ]
  },
  {
   "cell_type": "code",
   "execution_count": null,
   "metadata": {},
   "outputs": [],
   "source": [
    "#crie um programa que simule operações (soma, subtração, multiplicação e divisão) e insira quatro listas\n",
    "lista_soma = []\n",
    "lista_sub = []\n",
    "lista_mult = []\n",
    "lista_div = []\n",
    "for i in range(1, 11):\n",
    "    for k in (1, 11):\n",
    "        lista_soma.append(i + k) \n",
    "        lista_sub.append(i - k)  \n",
    "        lista_mult.append(i * k)\n",
    "        lista_div.append(i / k) \n",
    "lista_soma\n",
    "lista_sub\n",
    "lista_mult\n",
    "lista_div"
   ]
  },
  {
   "cell_type": "code",
   "execution_count": null,
   "metadata": {},
   "outputs": [],
   "source": [
    "#criar uma terceira lista com a soma dos elementos da lista 1 e lsita 2\n",
    "lista1 = [1,2,3,4]\n",
    "lista2 = [5,6,7,8]\n",
    "lista3= []\n",
    "for k in range(len(lista1)):\n",
    "    lista3.append(lista1[k]+lista2[k])\n",
    "print(lista3)"
   ]
  },
  {
   "cell_type": "code",
   "execution_count": null,
   "metadata": {},
   "outputs": [],
   "source": [
    "for i in range(1,4):\n",
    "    for k in range(1,4):\n",
    "        if i == k:\n",
    "            break\n",
    "        print(i, \"*\", k,'=' ,i*k)"
   ]
  }
 ],
 "metadata": {
  "kernelspec": {
   "display_name": "Python 3",
   "language": "python",
   "name": "python3"
  },
  "language_info": {
   "codemirror_mode": {
    "name": "ipython",
    "version": 3
   },
   "file_extension": ".py",
   "mimetype": "text/x-python",
   "name": "python",
   "nbconvert_exporter": "python",
   "pygments_lexer": "ipython3",
   "version": "3.11.9"
  }
 },
 "nbformat": 4,
 "nbformat_minor": 2
}
