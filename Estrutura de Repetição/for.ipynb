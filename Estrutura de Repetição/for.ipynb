{
 "cells": [
  {
   "cell_type": "code",
   "execution_count": null,
   "metadata": {},
   "outputs": [],
   "source": [
    "#aula 9 - 04/19/24  "
   ]
  },
  {
   "cell_type": "code",
   "execution_count": 1,
   "metadata": {},
   "outputs": [
    {
     "name": "stdout",
     "output_type": "stream",
     "text": [
      "a\n",
      "b\n",
      "c\n"
     ]
    }
   ],
   "source": [
    "list_car = [\"a\",\"b\",\"c\",\"d\",\"e\"]\n",
    "\n",
    "for k in list_car:\n",
    "    print(k)\n",
    "    if k == \"c\":\n",
    "        break"
   ]
  },
  {
   "cell_type": "code",
   "execution_count": null,
   "metadata": {},
   "outputs": [],
   "source": [
    "for k in reage(1, 10):\n",
    "    if k %2 == 0:\n",
    "        continue # vai continuar o k, sem printar (SO FUNCIONA COM CONDIÇÃO)\n",
    "    print(k)"
   ]
  },
  {
   "cell_type": "code",
   "execution_count": 3,
   "metadata": {},
   "outputs": [
    {
     "name": "stdout",
     "output_type": "stream",
     "text": [
      "a\n",
      "b\n",
      "d\n",
      "e\n"
     ]
    }
   ],
   "source": [
    "list_car = [\"a\",\"b\",\"c\",\"d\",\"e\"]\n",
    "\n",
    "for k in list_car:\n",
    "    if k == \"c\": \n",
    "        continue #não vai mostrar o \"c\"\n",
    "    print(k)"
   ]
  },
  {
   "cell_type": "code",
   "execution_count": 4,
   "metadata": {},
   "outputs": [
    {
     "name": "stdout",
     "output_type": "stream",
     "text": [
      "h\n",
      "o\n",
      "j\n",
      "e\n",
      " \n",
      "é\n",
      " \n",
      "d\n",
      "i\n",
      "a\n",
      " \n",
      "d\n",
      "e\n",
      " \n",
      "h\n",
      "a\n",
      "p\n",
      "p\n",
      "y\n",
      " \n",
      "h\n",
      "o\n",
      "u\n",
      "r\n"
     ]
    }
   ],
   "source": [
    "palavra = \"hoje é dia de happy hour\"\n",
    "\n",
    "for k in palavra:\n",
    "    print(k)"
   ]
  },
  {
   "cell_type": "code",
   "execution_count": null,
   "metadata": {},
   "outputs": [],
   "source": [
    "\"\"\" Exercícios\"\"\"\n",
    "\n",
    "# 1. crie uma estrutura para parar na letra a.\n",
    "# 2. Crie uma estrutura para não mostrar as vogais o\n",
    "# 3. Crie um programa para solicitar ao usuário em paragráfo. Em seguida crie uma estrutura para quebrar/parar em uma palavra selecionada pelo usuário.\n",
    "# 4. Crie um programa para solicitar ao usuário um texto. Em seguida, crie uma estrutura para não mostrar uma palavra selecionada pelo usuário."
   ]
  },
  {
   "cell_type": "code",
   "execution_count": 5,
   "metadata": {},
   "outputs": [
    {
     "name": "stdout",
     "output_type": "stream",
     "text": [
      "h\n",
      "o\n",
      "j\n",
      "e\n",
      " \n",
      "é\n",
      " \n",
      "d\n",
      "i\n",
      "a\n"
     ]
    }
   ],
   "source": [
    "# 1. crie uma estrutura para parar na letra a.\n",
    "\n",
    "palavra = \"hoje é dia de happy hour\"\n",
    "\n",
    "for i in palavra:\n",
    "    print(i)\n",
    "    if i == \"a\":\n",
    "        break\n",
    "\n"
   ]
  },
  {
   "cell_type": "code",
   "execution_count": 6,
   "metadata": {},
   "outputs": [
    {
     "name": "stdout",
     "output_type": "stream",
     "text": [
      "h\n",
      "j\n",
      "e\n",
      " \n",
      "é\n",
      " \n",
      "d\n",
      "i\n",
      "a\n",
      " \n",
      "d\n",
      "e\n",
      " \n",
      "h\n",
      "a\n",
      "p\n",
      "p\n",
      "y\n",
      " \n",
      "h\n",
      "u\n",
      "r\n"
     ]
    }
   ],
   "source": [
    "# 2. Crie uma estrutura para não mostrar as vogais o\n",
    "\n",
    "palavra = \"hoje é dia de happy hour\"\n",
    "\n",
    "for k in palavra:\n",
    "    if k == \"o\":\n",
    "        continue\n",
    "    print(k)"
   ]
  },
  {
   "cell_type": "code",
   "execution_count": 16,
   "metadata": {},
   "outputs": [
    {
     "name": "stdout",
     "output_type": "stream",
     "text": [
      "l\n",
      "o\n",
      "r\n",
      "r\n",
      "a\n",
      "n\n",
      " \n",
      "d\n",
      "o\n",
      "s\n",
      " \n",
      "s\n",
      "a\n",
      "n\n",
      "t\n",
      "o\n",
      "s\n"
     ]
    }
   ],
   "source": [
    "#ERRO\n",
    "\n",
    "# 3. Crie um programa para solicitar ao usuário em paragráfo. Em seguida crie uma estrutura para quebrar/parar em uma palavra selecionada pelo usuário.\n",
    "\n",
    "paragrafo = input(\"Write a paragraph:\")\n",
    "\n",
    "wordOcult = input(\"Write word ocult?\")\n",
    "\n",
    "for k in paragrafo:\n",
    "    print(k)\n",
    "    if k == wordOcult:\n",
    "        break"
   ]
  },
  {
   "cell_type": "code",
   "execution_count": 12,
   "metadata": {},
   "outputs": [
    {
     "name": "stdout",
     "output_type": "stream",
     "text": [
      "l\n",
      "o\n",
      "r\n",
      "r\n",
      "a\n",
      "n\n",
      "d\n",
      "o\n",
      "s\n"
     ]
    }
   ],
   "source": [
    "#ERRO\n",
    "\n",
    "# 4. Crie um programa para solicitar ao usuário um texto. Em seguida, crie uma estrutura para não mostrar uma palavra selecionada pelo usuário.\n",
    "\n",
    "passWord = input(\"ENTER PASSWORD\")\n",
    "\n",
    "ocult = input(\"ENTER OCULT\")\n",
    "\n",
    "for k in passWord:\n",
    "    if k == ocult:\n",
    "        continue\n",
    "    print(k)\n",
    "        \n",
    "\n",
    "\n"
   ]
  },
  {
   "cell_type": "code",
   "execution_count": 18,
   "metadata": {},
   "outputs": [
    {
     "name": "stdout",
     "output_type": "stream",
     "text": [
      "8\n"
     ]
    }
   ],
   "source": [
    "\n",
    "palavra = \"hojE é dIa dE happy HOur\"\n",
    "vogais = \"aeiouAEIOU\"\n",
    "\n",
    "contador = 0\n",
    "\n",
    "for i in palavra:\n",
    "    if i in vogais:\n",
    "        contador +=1 #Conta quantas vezes aparecem as variaveis\n",
    "print(contador)"
   ]
  },
  {
   "cell_type": "code",
   "execution_count": 26,
   "metadata": {},
   "outputs": [
    {
     "data": {
      "text/plain": [
       "['hoje', 'é', 'dia', 'de', 'happy', 'hour']"
      ]
     },
     "execution_count": 26,
     "metadata": {},
     "output_type": "execute_result"
    }
   ],
   "source": [
    "# APPEDN - adiciona um elemento ao final da lista = .append('Python')\n",
    "\n",
    "# example:\n",
    "\n",
    "palavra = ['hoje', 'é', 'dia', 'de', 'happy']\n",
    "palavra.append('hour')\n",
    "palavra"
   ]
  },
  {
   "cell_type": "code",
   "execution_count": null,
   "metadata": {},
   "outputs": [],
   "source": [
    "# with JOIN \n",
    "\n",
    "palavra = ['hoje', 'é', 'dia', 'de', 'happy']\n",
    "palavra.append('hour')\n",
    "palavra\n",
    "\n",
    "texto = \" \". join(palavra) #juntas os elementos olhando para a virgula\n",
    "texto"
   ]
  },
  {
   "cell_type": "code",
   "execution_count": null,
   "metadata": {},
   "outputs": [],
   "source": [
    "# 3. Crie um programa para solicitar ao usuário em paragráfo. Em seguida crie uma estrutura para quebrar/parar em uma palavra selecionada pelo usuário.\n",
    "\n",
    "paragrafo = input(\"Write a paragraph:\")\n",
    "\n",
    "wordOcult = input(\"Write word ocult?\")\n",
    "\n",
    "for k in paragrafo:\n",
    "    print(k)\n",
    "    if k == wordOcult:\n",
    "        break"
   ]
  }
 ],
 "metadata": {
  "kernelspec": {
   "display_name": "Python 3",
   "language": "python",
   "name": "python3"
  },
  "language_info": {
   "codemirror_mode": {
    "name": "ipython",
    "version": 3
   },
   "file_extension": ".py",
   "mimetype": "text/x-python",
   "name": "python",
   "nbconvert_exporter": "python",
   "pygments_lexer": "ipython3",
   "version": "3.11.9"
  }
 },
 "nbformat": 4,
 "nbformat_minor": 2
}
