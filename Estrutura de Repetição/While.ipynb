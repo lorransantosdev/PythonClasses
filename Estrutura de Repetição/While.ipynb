{
 "cells": [
  {
   "cell_type": "code",
   "execution_count": 3,
   "metadata": {},
   "outputs": [
    {
     "name": "stdout",
     "output_type": "stream",
     "text": [
      "0\n",
      "1\n",
      "2\n",
      "3\n",
      "4\n",
      "5\n"
     ]
    }
   ],
   "source": [
    "i = 0\n",
    "\n",
    "\"\"\"WHILE = ESTRUTURA DE REPETIÇÃO\"\"\"\n",
    "while i <= 5:\n",
    "    print(i)\n",
    "    i += 1"
   ]
  },
  {
   "cell_type": "code",
   "execution_count": 4,
   "metadata": {},
   "outputs": [
    {
     "name": "stdout",
     "output_type": "stream",
     "text": [
      "120\n"
     ]
    }
   ],
   "source": [
    "resultado = 1\n",
    "numero = 0\n",
    "\n",
    "while numero < 5:\n",
    "    numero += 1\n",
    "    resultado *= numero\n",
    "print(resultado)"
   ]
  },
  {
   "cell_type": "code",
   "execution_count": 1,
   "metadata": {},
   "outputs": [
    {
     "name": "stdout",
     "output_type": "stream",
     "text": [
      "9\n",
      "8\n",
      "7\n",
      "6\n",
      "5\n",
      "4\n",
      "3\n",
      "2\n",
      "1\n",
      "0\n"
     ]
    }
   ],
   "source": [
    "#conatem decrescente\n",
    "\n",
    "contador = 10\n",
    "\n",
    "while contador > 0:\n",
    "    contador -= 1\n",
    "    print(contador)\n",
    "\n"
   ]
  },
  {
   "cell_type": "code",
   "execution_count": null,
   "metadata": {},
   "outputs": [],
   "source": [
    "#python tutor"
   ]
  },
  {
   "cell_type": "code",
   "execution_count": 5,
   "metadata": {},
   "outputs": [
    {
     "name": "stdout",
     "output_type": "stream",
     "text": [
      "50.0ºF / -4.222222222222221ºC\n",
      "20.0ºF / -20.88888888888889ºC\n",
      "30.0ºF / -15.333333333333332ºC\n",
      "20.0ºF / -20.88888888888889ºC\n"
     ]
    }
   ],
   "source": [
    "#Ex 1 - Criar um programa para solicitar temperatura em farehnheit e converter para celsius\n",
    "# Enquanto for diferente de alguma coisa continue essa estrutura.\n",
    "\n",
    "\n",
    "temp_celsius = 0\n",
    "temp_farenheit = float(input(\"INSIRA O VALOR DE TEMPERATURA\"))\n",
    "\n",
    "while temp_farenheit != 0:\n",
    "\n",
    "    temp_celsius = ((5/9) * (temp_farenheit) - 32)\n",
    "     \n",
    "    print(\"{}ºF / {}ºC\" .format(temp_farenheit, temp_celsius))\n",
    "\n",
    "    temp_farenheit = float(input(\"INSIRA O VALOR DE TEMPERATURA\"))"
   ]
  },
  {
   "cell_type": "code",
   "execution_count": 3,
   "metadata": {},
   "outputs": [
    {
     "name": "stdout",
     "output_type": "stream",
     "text": [
      "1\n",
      "2\n",
      "3\n",
      "4\n",
      "5\n",
      "6\n",
      "7\n",
      "8\n"
     ]
    }
   ],
   "source": [
    "#cria um programa para solicitar um numero para o usuario, crie uma variavel contador = 1\n",
    "# utilize a estrutura while para contar ate que contador seja menor ou igual a numero =, print cotador,\n",
    "# increment contador +1\n",
    "\n",
    "\n",
    "numero = float(input(\"INSIRA UM NUMERO\"))\n",
    "contador = 1\n",
    "\n",
    "while contador <= numero:\n",
    "    print(contador)\n",
    "    contador +=1"
   ]
  },
  {
   "cell_type": "code",
   "execution_count": 25,
   "metadata": {},
   "outputs": [
    {
     "name": "stdout",
     "output_type": "stream",
     "text": [
      "1\n",
      "2\n",
      "3\n",
      "4\n",
      "5\n",
      "6\n",
      "7\n",
      "8\n",
      "9\n",
      "10\n",
      "11\n",
      "10\n",
      "9\n",
      "8\n",
      "7\n",
      "6\n",
      "5\n",
      "4\n",
      "3\n",
      "2\n",
      "1\n",
      "0\n"
     ]
    }
   ],
   "source": [
    "# Crie um programa para contar de 0 ate 10, depois crie um programa para contagem decrescente \n",
    "\n",
    "contador = 0\n",
    "\n",
    "while contador < 11:\n",
    "    contador += 1\n",
    "    print(contador)\n",
    "\n",
    "while contador > 0 :\n",
    "    contador -= 1\n",
    "    print(contador)\n",
    "   "
   ]
  },
  {
   "cell_type": "code",
   "execution_count": null,
   "metadata": {},
   "outputs": [],
   "source": [
    "lista = [1, 2, 3]\n",
    "\n",
    "list_letras = [\"a\", \"b\", \"c\"]\n",
    "\n",
    "print(len(list))\n",
    "print(len(list_letras))"
   ]
  },
  {
   "cell_type": "code",
   "execution_count": 1,
   "metadata": {},
   "outputs": [
    {
     "name": "stdout",
     "output_type": "stream",
     "text": [
      "A LETRA 'A' APARECE {3} vezes na frase\n"
     ]
    }
   ],
   "source": [
    "frase = input(\"DIGITE UMA FRASE\")\n",
    "\n",
    "contagem = 0\n",
    "indice = 0\n",
    "\n",
    "while indice < len(frase):\n",
    "\n",
    "    # verificando o \"a\" - o indice é [xxx]\n",
    "    if frase[indice] == \"a\":\n",
    "        \n",
    "        # conta quantos elementos tem na frase\n",
    "        contagem += 1\n",
    "\n",
    "    # indice caminha caracter por caracter\n",
    "    indice += 1\n",
    "    \n",
    "print(f\"A LETRA 'A' APARECE\", {contagem}, \"vezes na frase\")\n"
   ]
  },
  {
   "cell_type": "code",
   "execution_count": 5,
   "metadata": {},
   "outputs": [
    {
     "name": "stdout",
     "output_type": "stream",
     "text": [
      "n\n"
     ]
    }
   ],
   "source": [
    "nome = input(\"nome?\")\n",
    "\n",
    "ultima_letra = nome[len(nome)-1]\n",
    "print(ultima_letra)"
   ]
  },
  {
   "cell_type": "code",
   "execution_count": 8,
   "metadata": {},
   "outputs": [
    {
     "name": "stdout",
     "output_type": "stream",
     "text": [
      "15.0\n"
     ]
    }
   ],
   "source": [
    "# Define uma lista de números\n",
    "numeros = [10, 5, 30]\n",
    "\n",
    "# Inicializa variáveis para a soma e o índice\n",
    "soma = 0\n",
    "indice = 0\n",
    "\n",
    "# Enquanto o índice for menor que o comprimento da lista de números\n",
    "while indice < len(numeros):\n",
    "    # Adiciona o número atual à soma\n",
    "    soma += numeros[indice]\n",
    "    # Incrementa o índice para passar para o próximo número na lista\n",
    "    indice += 1\n",
    "\n",
    "# Calcula a média dividindo a soma pelo número de elementos na lista\n",
    "media = soma / len(numeros)\n",
    "\n",
    "# Imprime a média\n",
    "print(media)"
   ]
  },
  {
   "cell_type": "code",
   "execution_count": 9,
   "metadata": {},
   "outputs": [
    {
     "name": "stdout",
     "output_type": "stream",
     "text": [
      "SP\n",
      "RJ\n",
      "MG\n",
      "THE END!\n"
     ]
    }
   ],
   "source": [
    "# Define uma lista de lojas\n",
    "lojas = [\"SP\", \"RJ\", \"MG\"]\n",
    "\n",
    "# Itera sobre cada elemento na lista de lojas\n",
    "for loja in lojas:\n",
    "    # Imprime o nome da loja atual\n",
    "    print(loja)\n",
    "\n",
    "# Imprime uma mensagem indicando o fim do loop\n",
    "print(\"THE END!\")\n",
    "\n",
    "\"\"\"lojas = [\"SP\", \"RJ\", \"MG\"]: Cria uma lista chamada \"lojas\" contendo os elementos \"SP\", \"RJ\" e \"MG\".\n",
    "for loja in lojas:: Inicia um loop for que irá iterar sobre cada elemento na lista \"lojas\". A cada iteração, o valor do elemento atual é atribuído à variável loja.\n",
    "print(loja): Dentro do loop, imprime o valor da variável loja, que corresponde ao nome da loja atual.\n",
    "print(\"THE END!\"): Fora do loop, imprime a mensagem \"THE END!\", indicando o fim do loop.\"\"\""
   ]
  },
  {
   "cell_type": "code",
   "execution_count": 11,
   "metadata": {},
   "outputs": [
    {
     "name": "stdout",
     "output_type": "stream",
     "text": [
      "0\n",
      "SP\n",
      "1\n",
      "RJ\n",
      "2\n",
      "MG\n"
     ]
    }
   ],
   "source": [
    "# Itera sobre os índices da lista \"lojas\" usando a função range()\n",
    "# len(lojas) retorna o número de elementos na lista \"lojas\"\n",
    "for i in range(len(lojas)):\n",
    "    # Imprime o índice atual\n",
    "    print(i)\n",
    "    # Imprime o elemento da lista \"lojas\" correspondente ao índice atual\n",
    "    print(lojas[i])\n",
    "\n",
    "\"\"\"for i in range(len(lojas)):: Inicia um loop for que itera sobre os índices da lista \"lojas\". A função range(len(lojas)) gera uma sequência de números de 0 até o comprimento da lista \"lojas\" menos 1. Isso permite acessar cada elemento da lista usando seu índice.\n",
    "print(i): Dentro do loop, imprime o valor do índice atual. Este valor começa em 0 e vai até o comprimento da lista menos 1.\n",
    "print(lojas[i]): Dentro do loop, imprime o elemento da lista \"lojas\" correspondente ao índice atual. A cada iteração do loop, o valor de i é usado para acessar o elemento da lista no índice atual.\"\"\""
   ]
  },
  {
   "cell_type": "code",
   "execution_count": 12,
   "metadata": {},
   "outputs": [
    {
     "name": "stdout",
     "output_type": "stream",
     "text": [
      "S\n",
      "P\n"
     ]
    }
   ],
   "source": [
    "for letters in lojas[0]:\n",
    "    print(letters)\n",
    "\n",
    "#or a option simple \n",
    "\n",
    "\"\"\"for letters in \"lorran\":\n",
    "    print(letters)\"\"\"\n",
    "\n"
   ]
  },
  {
   "cell_type": "code",
   "execution_count": null,
   "metadata": {},
   "outputs": [],
   "source": [
    "#Aula 09 - 19/04/2024 - Estrutura de repetição "
   ]
  },
  {
   "cell_type": "code",
   "execution_count": 1,
   "metadata": {},
   "outputs": [
    {
     "name": "stdout",
     "output_type": "stream",
     "text": [
      "1\n",
      "2\n",
      "3\n",
      "4\n",
      "5\n",
      "6\n",
      "7\n",
      "8\n",
      "9\n"
     ]
    }
   ],
   "source": [
    "#\"Contador\"\n",
    "\n",
    "for i in range(1,10): #range vai até um numero antes do definido \n",
    "    print(i)          #i (interador) - vai passar pelo codigo"
   ]
  },
  {
   "cell_type": "code",
   "execution_count": 4,
   "metadata": {},
   "outputs": [
    {
     "name": "stdout",
     "output_type": "stream",
     "text": [
      "A soma dos numeros de 1 a 3 é: 6\n"
     ]
    },
    {
     "data": {
      "text/plain": [
       "'soma = 0\\ni = 1\\n\\nsoma=1\\ni=2\\n\\nsoma = 3\\ni=3\\n\\nsoma=6\\n\\n'"
      ]
     },
     "execution_count": 4,
     "metadata": {},
     "output_type": "execute_result"
    }
   ],
   "source": [
    "\n",
    "soma = 0\n",
    "\n",
    "for i in range(1,4):\n",
    "    soma += i\n",
    "print(\"A soma dos numeros de 1 a 3 é:\", soma)\n",
    "\n",
    "# explicação\n",
    "\n",
    "\"\"\"soma = 0\n",
    "i = 1\n",
    "\n",
    "soma=1\n",
    "i=2\n",
    "\n",
    "soma = 3\n",
    "i=3\n",
    "\n",
    "soma=6\n",
    "\n",
    "\"\"\""
   ]
  },
  {
   "cell_type": "code",
   "execution_count": 8,
   "metadata": {},
   "outputs": [
    {
     "name": "stdout",
     "output_type": "stream",
     "text": [
      "-1\n",
      "-3\n",
      "-6\n",
      "-10\n"
     ]
    }
   ],
   "source": [
    "sub = 0\n",
    "\n",
    "for i in range(1,5):\n",
    "    sub -= i\n",
    "    print(sub)\n",
    "\n",
    "#sub = 0\n",
    "#i=1\n",
    "\n",
    "#sub = -1\n",
    "#i=2\n",
    "\n",
    "#sub=-3\n",
    "#i=3\n",
    "\n",
    "# sub= -6"
   ]
  },
  {
   "cell_type": "code",
   "execution_count": null,
   "metadata": {},
   "outputs": [],
   "source": [
    "mult = 1\n",
    "\n",
    "for i in range(1,4):\n",
    "    mult *= i\n",
    "    print(mult)\n",
    "\n",
    "#mult =1\n",
    "#i=1\n",
    "\n",
    "#mult=1\n",
    "#i=2\n",
    "\n",
    "\n",
    "#mult =2\n",
    "#i=3\n",
    "\n",
    "#mult = 6\n"
   ]
  },
  {
   "cell_type": "code",
   "execution_count": 9,
   "metadata": {},
   "outputs": [
    {
     "name": "stdout",
     "output_type": "stream",
     "text": [
      "1\n",
      "3\n",
      "5\n",
      "7\n",
      "9\n"
     ]
    }
   ],
   "source": [
    "for i in range(1,11,2):\n",
    "    print(i)"
   ]
  },
  {
   "cell_type": "code",
   "execution_count": 10,
   "metadata": {},
   "outputs": [
    {
     "name": "stdout",
     "output_type": "stream",
     "text": [
      "1\n",
      "2\n",
      "3\n",
      "4\n",
      "5\n"
     ]
    }
   ],
   "source": [
    "for i in range(1,11):\n",
    "    print(i)\n",
    "    if i ==5:\n",
    "        break"
   ]
  },
  {
   "cell_type": "code",
   "execution_count": 1,
   "metadata": {},
   "outputs": [
    {
     "name": "stdout",
     "output_type": "stream",
     "text": [
      "1\n",
      "2\n",
      "3\n",
      "4\n",
      "5\n",
      "6\n",
      "7\n",
      "8\n",
      "9\n"
     ]
    }
   ],
   "source": [
    "i = 1; \n",
    "\n",
    "\n",
    "while i <10:\n",
    "    print(i)\n",
    "    i += 1;\n"
   ]
  }
 ],
 "metadata": {
  "kernelspec": {
   "display_name": "Python 3",
   "language": "python",
   "name": "python3"
  },
  "language_info": {
   "codemirror_mode": {
    "name": "ipython",
    "version": 3
   },
   "file_extension": ".py",
   "mimetype": "text/x-python",
   "name": "python",
   "nbconvert_exporter": "python",
   "pygments_lexer": "ipython3",
   "version": "3.11.9"
  }
 },
 "nbformat": 4,
 "nbformat_minor": 2
}
