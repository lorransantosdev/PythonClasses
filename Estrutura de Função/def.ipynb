{
 "cells": [
  {
   "cell_type": "markdown",
   "metadata": {},
   "source": [
    "##### Exercicio 1 - Soma de dois números AULA DO DIA 10/05/2024"
   ]
  },
  {
   "cell_type": "code",
   "execution_count": null,
   "metadata": {},
   "outputs": [],
   "source": [
    "def soma(x,y):\n",
    "    \"\"\"Função Soma\"\"\"\n",
    "    resultado = x + y\n",
    "    return resultado"
   ]
  },
  {
   "cell_type": "code",
   "execution_count": null,
   "metadata": {},
   "outputs": [],
   "source": [
    "# Assim funciona, mas somente para funções curtas\n",
    "\n",
    "def soma(x,y):\n",
    "    \"\"\"Função Soma\"\"\"\n",
    "    return x + y"
   ]
  },
  {
   "cell_type": "markdown",
   "metadata": {},
   "source": [
    "##### 1. Crie funções para fazer operações de soma, subtração, divisão e multiplicação."
   ]
  },
  {
   "cell_type": "code",
   "execution_count": null,
   "metadata": {},
   "outputs": [],
   "source": [
    "def soma(x, y):\n",
    "    \"\"\"Função Soma\"\"\"\n",
    "    return x + y\n",
    "\n",
    "\n",
    "def subtracao(x, y):\n",
    "    \"\"\"Função Subtração\"\"\"\n",
    "    return x - y\n",
    "\n",
    "\n",
    "def divisao(x, y):\n",
    "    \"\"\"Função Divisão\"\"\"\n",
    "    return x / y\n",
    "\n",
    "\n",
    "def multiplicacao(x, y):\n",
    "    \"\"\"Função Multiplicação\"\"\"\n",
    "    return x * y"
   ]
  },
  {
   "cell_type": "markdown",
   "metadata": {},
   "source": [
    "##### 2. Crie funções para calcular a área de um quadrado, retângulo, círculo e triãngulo."
   ]
  },
  {
   "cell_type": "code",
   "execution_count": null,
   "metadata": {},
   "outputs": [],
   "source": [
    "def areQuadrado(lado):\n",
    "    \"\"\"Função Area Quadrado\"\"\"\n",
    "    return lado ** 2\n",
    "\n",
    "\n",
    "def areaRetangulo(x , y):\n",
    "    \"\"\"Função Area Triângulo\"\"\"\n",
    "    return x * y\n",
    "\n",
    "\n",
    "def areaCirculo(pi, r):\n",
    "    \"\"\"Função Area Círculo\"\"\"\n",
    "    pi = 3.14\n",
    "    return pi * r ** 2\n",
    "\n",
    "\n",
    "def areaTriangulo(b , h):\n",
    "    \"\"\"Função Area Triângulo\"\"\"\n",
    "    return (b * h) / 2"
   ]
  },
  {
   "cell_type": "markdown",
   "metadata": {},
   "source": [
    "##### 3. Crie uma função para calcular o volume de um cubo."
   ]
  },
  {
   "cell_type": "code",
   "execution_count": null,
   "metadata": {},
   "outputs": [],
   "source": [
    "def volumeCubo(lado):\n",
    "    \"\"\"Função Volume Cubo\"\"\"\n",
    "    return lado ** 3"
   ]
  },
  {
   "cell_type": "markdown",
   "metadata": {},
   "source": [
    "##### 4. Crie uma função para calcular a área de um terreno (com input para o usuário)."
   ]
  },
  {
   "cell_type": "code",
   "execution_count": 8,
   "metadata": {},
   "outputs": [
    {
     "name": "stdout",
     "output_type": "stream",
     "text": [
      "144.0 Lorran Gay\n"
     ]
    }
   ],
   "source": [
    "width = float(input(\"Write the width of ground\"))\n",
    "heigth = float(input(\"Write the heigth of ground\"))\n",
    "\n",
    "def areaTerreno(width, heigth):\n",
    "    \"\"\"Função Area Terreno\"\"\"\n",
    "    return width * heigth\n",
    "\n",
    "print(areaTerreno(width, heigth))"
   ]
  },
  {
   "cell_type": "markdown",
   "metadata": {},
   "source": [
    "##### 5. Crie uma função para mostrar se um número  é par ou ímpar "
   ]
  },
  {
   "cell_type": "code",
   "execution_count": 15,
   "metadata": {},
   "outputs": [
    {
     "name": "stdout",
     "output_type": "stream",
     "text": [
      "Impar\n"
     ]
    }
   ],
   "source": [
    "numero = int(input(\"Enter any number: \"))\n",
    "\n",
    "def parImpar(numero):\n",
    "    \"\"\"Função Par ou Impar\"\"\"\n",
    "    if numero != 0:\n",
    "        if numero % 2 == 0:\n",
    "            return \"Par\"\n",
    "        else:\n",
    "            return \"Impar\"\n",
    "    else:\n",
    "        return \"Zero\"\n",
    "\n",
    "resultado = parImpar(numero)\n",
    "print(resultado)\n",
    "            "
   ]
  },
  {
   "cell_type": "markdown",
   "metadata": {},
   "source": [
    "##### 6. Crie uma função que calcula a soma de valores de uma lista = [10, 15, 25, 30, 15]"
   ]
  },
  {
   "cell_type": "code",
   "execution_count": 19,
   "metadata": {},
   "outputs": [
    {
     "name": "stdout",
     "output_type": "stream",
     "text": [
      "95\n"
     ]
    }
   ],
   "source": [
    "lista = [10, 15, 25, 30, 15]\n",
    "\n",
    "def somaLista(x):\n",
    "    \"\"\"Função Soma Valores da Lista\"\"\"\n",
    "    soma = 0;\n",
    "\n",
    "    for k in lista:\n",
    "        soma += k;\n",
    "    return soma\n",
    "\n",
    "print(somaLista(lista))"
   ]
  },
  {
   "cell_type": "markdown",
   "metadata": {},
   "source": [
    "##### 7. Como criar uma estrutura com input para o usuário solicitando 5 valores?\n",
    "- criar estrutura solicitando 5 valores para o usuário.\n",
    "- criar estrutura para somar os valores inseridos pelo usuário.\n",
    "- criar estrutura para calcular a média dos valores inseridos"
   ]
  },
  {
   "cell_type": "code",
   "execution_count": 13,
   "metadata": {},
   "outputs": [
    {
     "name": "stdout",
     "output_type": "stream",
     "text": [
      "A soma dos valores inseridos é: 150.0\n",
      "A média dos valores inseridos é: 30.0\n"
     ]
    }
   ],
   "source": [
    "\n",
    "def solicitarValores(x):\n",
    "    \"\"\"Função Solicitação de Valores\"\"\"\n",
    "    lista_valores = []\n",
    "    \n",
    "    for i in range(x):\n",
    "        valores = float(input(\"INSIRA UM VALOR\"))\n",
    "        lista_valores.append(valores)\n",
    "\n",
    "    return lista_valores\n",
    "\n",
    "def soma(valores):\n",
    "    \"\"\"Função Soma\"\"\"\n",
    "    soma = 0;\n",
    "    for k in valores:\n",
    "        soma += k;\n",
    "    return soma\n",
    "\n",
    "def media(valores):\n",
    "    \"\"\"Função Média\"\"\"\n",
    "    return soma(valores) / len(valores)\n",
    "\n",
    "\n",
    "valores_inseridos_qnt = solicitarValores(5)\n",
    "\n",
    "resultado_soma = soma(valores_inseridos_qnt)\n",
    "print(\"A soma dos valores inseridos é:\", resultado_soma)\n",
    "\n",
    "resultado_media = media(valores_inseridos_qnt)\n",
    "print(\"A média dos valores inseridos é:\", resultado_media)\n"
   ]
  },
  {
   "cell_type": "markdown",
   "metadata": {},
   "source": [
    "##### 8. Crie uma estrutura para solicitar 3 valores de sálarios, em seguida, crie uma porcentagem de desconto para cada sálario e retorne o valor do salário com o respectivo dsconto"
   ]
  },
  {
   "cell_type": "code",
   "execution_count": null,
   "metadata": {},
   "outputs": [],
   "source": [
    "def solicitar_salarios():\n",
    "    \"\"\"Solicita três valores de salários ao usuário.\"\"\"\n",
    "\n",
    "    salarios = []\n",
    "    for i in range(3):\n",
    "        while True:\n",
    "            try:\n",
    "                salario = float(input(f\"Digite o salário {i+1}: \"))\n",
    "                salarios.append(salario)\n",
    "                break\n",
    "            except ValueError:\n",
    "                print(\"Por favor, insira um valor numérico válido.\")\n",
    "    return salarios\n",
    "\n",
    "\n",
    "def calcular_desconto(salario, porcentagem):\n",
    "    \"\"\"Calcula o valor do salário após aplicar o desconto.\"\"\"\n",
    "\n",
    "    desconto = salario * (porcentagem / 100)\n",
    "    salario_com_desconto = salario - desconto\n",
    "    return salario_com_desconto\n",
    "\n",
    "\n",
    "def aplicar_descontos(salarios):\n",
    "    \"\"\"Aplica uma porcentagem de desconto a cada salário da lista.\"\"\"\n",
    "\n",
    "    salarios_com_descontos = []\n",
    "    for salario in salarios:\n",
    "        while True:\n",
    "            try:\n",
    "                porcentagem = float(input(f\"Digite a porcentagem de desconto para o salário {salario}: \"))\n",
    "                salario_com_desconto = calcular_desconto(salario, porcentagem)\n",
    "                salarios_com_descontos.append((salario, porcentagem, salario_com_desconto))\n",
    "                break\n",
    "            except ValueError:\n",
    "                print(\"Por favor, insira um valor numérico válido.\")\n",
    "    return salarios_com_descontos\n",
    "\n",
    "\n",
    "#função principal que permite que tudo seja execultodo conforme a ordem desejada\n",
    "def main():\n",
    "    \"\"\"Função principal que execulta a solicitação dos salários, o cálculo dos descontos e a exibição dos resultados.\"\"\"\n",
    "    salarios = solicitar_salarios()\n",
    "    salarios_com_descontos = aplicar_descontos(salarios)\n",
    "    \n",
    "    print(\"\\nResumo dos salários com descontos:\") #coloquei para pular uma linha antes de printar a frase\n",
    "\n",
    "    for salario, porcentagem, salario_com_desconto in salarios_com_descontos:\n",
    "        print(f\"Salário original: R$ {salario}, Desconto: {porcentagem}%, Salário com desconto: R$ {salario_com_desconto}\")\n",
    "\n",
    "# Executa a função principal\n",
    "if __name__ == \"__main__\": \n",
    "    main()"
   ]
  },
  {
   "cell_type": "markdown",
   "metadata": {},
   "source": [
    "##### 8. Crie uma estrutura para solicitar 3 valores de sálarios, em seguida, crie uma porcentagem de desconto para cada sálario e retorne o valor do salário com o respectivo dsconto"
   ]
  },
  {
   "cell_type": "code",
   "execution_count": null,
   "metadata": {},
   "outputs": [],
   "source": [
    "salarios = []\n",
    "\n",
    "for i in range(3):\n",
    "    while True:\n",
    "        try:\n",
    "            salario = float(input(\"Enter the values necessary {}: \".format(i+1)));\n",
    "            salarios.append(salario);\n",
    "            break\n",
    "        \n"
   ]
  }
 ],
 "metadata": {
  "kernelspec": {
   "display_name": "Python 3",
   "language": "python",
   "name": "python3"
  },
  "language_info": {
   "codemirror_mode": {
    "name": "ipython",
    "version": 3
   },
   "file_extension": ".py",
   "mimetype": "text/x-python",
   "name": "python",
   "nbconvert_exporter": "python",
   "pygments_lexer": "ipython3",
   "version": "3.11.9"
  }
 },
 "nbformat": 4,
 "nbformat_minor": 2
}
