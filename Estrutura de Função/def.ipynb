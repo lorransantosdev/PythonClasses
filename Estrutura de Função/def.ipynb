{
 "cells": [
  {
   "cell_type": "markdown",
   "metadata": {},
   "source": [
    "##### Exercicio 1 - Soma de dois números AULA DO DIA 10/05/2024"
   ]
  },
  {
   "cell_type": "code",
   "execution_count": null,
   "metadata": {},
   "outputs": [],
   "source": [
    "def soma(x,y):\n",
    "    \"\"\"Função Soma\"\"\"\n",
    "    resultado = x + y\n",
    "    return resultado"
   ]
  },
  {
   "cell_type": "code",
   "execution_count": null,
   "metadata": {},
   "outputs": [],
   "source": [
    "# Assim funciona, mas somente para funções curtas\n",
    "\n",
    "def soma(x,y):\n",
    "    \"\"\"Função Soma\"\"\"\n",
    "    return x + y"
   ]
  },
  {
   "cell_type": "markdown",
   "metadata": {},
   "source": [
    "##### 1. Crie funções para fazer operações de soma, subtração, divisão e multiplicação."
   ]
  },
  {
   "cell_type": "code",
   "execution_count": null,
   "metadata": {},
   "outputs": [],
   "source": [
    "def soma(x, y):\n",
    "    \"\"\"Função Soma\"\"\"\n",
    "    return x + y\n",
    "\n",
    "\n",
    "def subtracao(x, y):\n",
    "    \"\"\"Função Subtração\"\"\"\n",
    "    return x - y\n",
    "\n",
    "\n",
    "def divisao(x, y):\n",
    "    \"\"\"Função Divisão\"\"\"\n",
    "    return x / y\n",
    "\n",
    "\n",
    "def multiplicacao(x, y):\n",
    "    \"\"\"Função Multiplicação\"\"\"\n",
    "    return x * y"
   ]
  },
  {
   "cell_type": "markdown",
   "metadata": {},
   "source": [
    "##### 2. Crie funções para calcular a área de um quadrado, retângulo, círculo e triãngulo."
   ]
  },
  {
   "cell_type": "code",
   "execution_count": null,
   "metadata": {},
   "outputs": [],
   "source": [
    "def areQuadrado(lado):\n",
    "    \"\"\"Função Area Quadrado\"\"\"\n",
    "    return lado ** 2\n",
    "\n",
    "\n",
    "def areaRetangulo(x , y):\n",
    "    \"\"\"Função Area Triângulo\"\"\"\n",
    "    return x * y\n",
    "\n",
    "\n",
    "def areaCirculo(pi, r):\n",
    "    \"\"\"Função Area Círculo\"\"\"\n",
    "    pi = 3.14\n",
    "    return pi * r ** 2\n",
    "\n",
    "\n",
    "def areaTriangulo(b , h):\n",
    "    \"\"\"Função Area Triângulo\"\"\"\n",
    "    return (b * h) / 2"
   ]
  },
  {
   "cell_type": "markdown",
   "metadata": {},
   "source": [
    "##### 3. Crie uma função para calcular o volume de um cubo."
   ]
  },
  {
   "cell_type": "code",
   "execution_count": null,
   "metadata": {},
   "outputs": [],
   "source": [
    "def volumeCubo(lado):\n",
    "    \"\"\"Função Volume Cubo\"\"\"\n",
    "    return lado ** 3"
   ]
  },
  {
   "cell_type": "markdown",
   "metadata": {},
   "source": [
    "##### 4. Crie uma função para calcular a área de um terreno (com input para o usuário)."
   ]
  },
  {
   "cell_type": "code",
   "execution_count": 8,
   "metadata": {},
   "outputs": [
    {
     "name": "stdout",
     "output_type": "stream",
     "text": [
      "144.0 Lorran Gay\n"
     ]
    }
   ],
   "source": [
    "width = float(input(\"Write the width of ground\"))\n",
    "heigth = float(input(\"Write the heigth of ground\"))\n",
    "\n",
    "def areaTerreno(width, heigth):\n",
    "    \"\"\"Função Area Terreno\"\"\"\n",
    "    return width * heigth\n",
    "\n",
    "print(areaTerreno(width, heigth))"
   ]
  },
  {
   "cell_type": "markdown",
   "metadata": {},
   "source": [
    "##### 5. Crie uma função para mostrar se um número  é par ou ímpar "
   ]
  },
  {
   "cell_type": "code",
   "execution_count": 15,
   "metadata": {},
   "outputs": [
    {
     "name": "stdout",
     "output_type": "stream",
     "text": [
      "Impar\n"
     ]
    }
   ],
   "source": [
    "numero = int(input(\"Enter any number: \"))\n",
    "\n",
    "def parImpar(numero):\n",
    "    \"\"\"Função Par ou Impar\"\"\"\n",
    "    if numero != 0:\n",
    "        if numero % 2 == 0:\n",
    "            return \"Par\"\n",
    "        else:\n",
    "            return \"Impar\"\n",
    "    else:\n",
    "        return \"Zero\"\n",
    "\n",
    "resultado = parImpar(numero)\n",
    "print(resultado)\n",
    "            "
   ]
  },
  {
   "cell_type": "markdown",
   "metadata": {},
   "source": [
    "##### 6. Crie uma função que calcula a soma de valores de uma lista = [10, 15, 25, 30, 15]"
   ]
  },
  {
   "cell_type": "code",
   "execution_count": 19,
   "metadata": {},
   "outputs": [
    {
     "name": "stdout",
     "output_type": "stream",
     "text": [
      "95\n"
     ]
    }
   ],
   "source": [
    "lista = [10, 15, 25, 30, 15]\n",
    "\n",
    "def somaLista(x):\n",
    "    \"\"\"Função Soma Valores da Lista\"\"\"\n",
    "    soma = 0;\n",
    "\n",
    "    for k in lista:\n",
    "        soma += k;\n",
    "    return soma\n",
    "\n",
    "print(somaLista(lista))"
   ]
  },
  {
   "cell_type": "markdown",
   "metadata": {},
   "source": [
    "##### 7. Como criar uma estrutura com input para o usuário solicitando 5 valores?\n",
    "##### - criar estrutura solicitando 5 valores para o usuário.\n",
    "##### - criar estrutura para somar os valores inseridos pelo usuário.\n",
    "##### - criar estrutura para calcular a média dos valores inseridos"
   ]
  },
  {
   "cell_type": "code",
   "execution_count": 13,
   "metadata": {},
   "outputs": [
    {
     "name": "stdout",
     "output_type": "stream",
     "text": [
      "A soma dos valores inseridos é: 150.0\n",
      "A média dos valores inseridos é: 30.0\n"
     ]
    }
   ],
   "source": [
    "\n",
    "def solicitarValores(x):\n",
    "    \"\"\"Função Solicitação de Valores\"\"\"\n",
    "    lista_valores = []\n",
    "    \n",
    "    for i in range(x):\n",
    "        valores = float(input(\"INSIRA UM VALOR\"))\n",
    "        lista_valores.append(valores)\n",
    "\n",
    "    return lista_valores\n",
    "\n",
    "def soma(valores):\n",
    "    \"\"\"Função Soma\"\"\"\n",
    "    soma = 0;\n",
    "    for k in valores:\n",
    "        soma += k;\n",
    "    return soma\n",
    "\n",
    "def media(valores):\n",
    "    \"\"\"Função Média\"\"\"\n",
    "    return soma(valores) / len(valores)\n",
    "\n",
    "\n",
    "valores_inseridos_qnt = solicitarValores(5)\n",
    "\n",
    "resultado_soma = soma(valores_inseridos_qnt)\n",
    "print(\"A soma dos valores inseridos é:\", resultado_soma)\n",
    "\n",
    "resultado_media = media(valores_inseridos_qnt)\n",
    "print(\"A média dos valores inseridos é:\", resultado_media)\n"
   ]
  },
  {
   "cell_type": "markdown",
   "metadata": {},
   "source": [
    "##### 8. Crie uma estrutura para solicitar 3 valores de sálarios, em seguida, crie uma porcentagem de desconto para cada sálario e retorne o valor do salário com o respectivo dsconto"
   ]
  },
  {
   "cell_type": "code",
   "execution_count": 37,
   "metadata": {},
   "outputs": [
    {
     "ename": "NameError",
     "evalue": "name 'l' is not defined",
     "output_type": "error",
     "traceback": [
      "\u001b[1;31m---------------------------------------------------------------------------\u001b[0m",
      "\u001b[1;31mNameError\u001b[0m                                 Traceback (most recent call last)",
      "Cell \u001b[1;32mIn[37], line 11\u001b[0m\n\u001b[0;32m      7\u001b[0m         lista_salario\u001b[38;5;241m.\u001b[39mappend(salario);\n\u001b[0;32m      9\u001b[0m     \u001b[38;5;28;01mreturn\u001b[39;00m lista_salario\n\u001b[1;32m---> 11\u001b[0m lista_salarios \u001b[38;5;241m=\u001b[39m solicitarSalario(\u001b[43ml\u001b[49m);\n\u001b[0;32m     13\u001b[0m \u001b[38;5;28;01mdef\u001b[39;00m \u001b[38;5;21mdescontosPorcentagem\u001b[39m(salario):\n\u001b[0;32m     14\u001b[0m     salario_desconto \u001b[38;5;241m=\u001b[39m []\n",
      "\u001b[1;31mNameError\u001b[0m: name 'l' is not defined"
     ]
    }
   ],
   "source": [
    "\n",
    "def solicitarSalario(l):\n",
    "    \"\"\"Função porcentagem salário\"\"\"\n",
    "    lista_salario = []\n",
    "    \n",
    "    for i in range(l):\n",
    "        salario = float(input(\"INSIRA O SALARIO\"));\n",
    "        lista_salario.append(salario);\n",
    "\n",
    "    return lista_salario\n",
    "\n",
    "lista_salarios = solicitarSalario(lista_salario);\n",
    "\n",
    "def descontosPorcentagem(salario):\n",
    "    salario_desconto = []\n",
    "    porcentagem = [0.20, 0.30, 0.10]\n",
    "\n",
    "    for k in range(len(lista_salarios)):\n",
    "        descontos = lista_salarios[k] - (lista_salarios[k] * porcentagem[k]);\n",
    "        salario_desconto.append(descontos)\n",
    "\n",
    "    return salario_desconto   \n",
    "\n",
    "qnt_solicitacao_valores = solicitarSalario(3);\n",
    "\n",
    "salario_com_desconto1 = descontosPorcentagem(qnt_solicitacao_valores)\n",
    "print(\"O valor do salario 1 com desconto é: \". format(salario_com_desconto1))\n",
    "\n",
    "salario_com_desconto2 = descontosPorcentagem(qnt_solicitacao_valores)\n",
    "print(\"O valor do salario 2 com desconto é: \". format(salario_com_desconto2))\n",
    "\n",
    "salario_com_desconto3 = descontosPorcentagem(qnt_solicitacao_valores)\n",
    "print(\"O valor do salario 3 com desconto é: \". format(salario_com_desconto3))\n",
    "\n",
    "\n"
   ]
  },
  {
   "cell_type": "code",
   "execution_count": 36,
   "metadata": {},
   "outputs": [
    {
     "name": "stdout",
     "output_type": "stream",
     "text": [
      "[800.0, 1400.0, 2700.0]\n"
     ]
    }
   ],
   "source": [
    "salario = [1000, 2000, 3000]\n",
    "\n",
    "# def descontosPorcentagem(salario):\n",
    "salario_desconto = []\n",
    "porcentagem = [0.20, 0.30, 0.10]\n",
    "\n",
    "for k in range(len(salario)):\n",
    "    descontos = salario[k] - (salario[k] * porcentagem[k]);\n",
    "    salario_desconto.append(descontos)\n",
    "\n",
    "print(salario_desconto)"
   ]
  },
  {
   "cell_type": "code",
   "execution_count": 31,
   "metadata": {},
   "outputs": [
    {
     "ename": "IndexError",
     "evalue": "list index out of range",
     "output_type": "error",
     "traceback": [
      "\u001b[1;31m---------------------------------------------------------------------------\u001b[0m",
      "\u001b[1;31mIndexError\u001b[0m                                Traceback (most recent call last)",
      "Cell \u001b[1;32mIn[31], line 1\u001b[0m\n\u001b[1;32m----> 1\u001b[0m \u001b[38;5;28mprint\u001b[39m(\u001b[43mdescontosPorcentagem\u001b[49m\u001b[43m(\u001b[49m\u001b[43msalario\u001b[49m\u001b[43m)\u001b[49m)\n",
      "Cell \u001b[1;32mIn[29], line 8\u001b[0m, in \u001b[0;36mdescontosPorcentagem\u001b[1;34m(salario)\u001b[0m\n\u001b[0;32m      5\u001b[0m porcentagem \u001b[38;5;241m=\u001b[39m [\u001b[38;5;241m0.20\u001b[39m, \u001b[38;5;241m0.30\u001b[39m, \u001b[38;5;241m0.10\u001b[39m]\n\u001b[0;32m      7\u001b[0m \u001b[38;5;28;01mfor\u001b[39;00m k \u001b[38;5;129;01min\u001b[39;00m salario:\n\u001b[1;32m----> 8\u001b[0m     descontos \u001b[38;5;241m=\u001b[39m \u001b[43msalario\u001b[49m\u001b[43m[\u001b[49m\u001b[43mk\u001b[49m\u001b[43m]\u001b[49m \u001b[38;5;241m*\u001b[39m porcentagem[k];\n\u001b[0;32m      9\u001b[0m     salario_desconto\u001b[38;5;241m.\u001b[39mappend(descontos)\n\u001b[0;32m     11\u001b[0m \u001b[38;5;28;01mreturn\u001b[39;00m salario_desconto\n",
      "\u001b[1;31mIndexError\u001b[0m: list index out of range"
     ]
    }
   ],
   "source": [
    "print(descontosPorcentagem(salario))"
   ]
  },
  {
   "cell_type": "code",
   "execution_count": 40,
   "metadata": {},
   "outputs": [
    {
     "name": "stdout",
     "output_type": "stream",
     "text": [
      "[1, 4, 9, 16]\n"
     ]
    }
   ],
   "source": [
    "lista = [1,2,3,4]\n",
    "lista1 = [1,2,3,4]\n",
    "\n",
    "mult = [lista[i] * lista1[i] for i in range(len(lista))]\n",
    "\n",
    "print(mult)\n"
   ]
  }
 ],
 "metadata": {
  "kernelspec": {
   "display_name": "Python 3",
   "language": "python",
   "name": "python3"
  },
  "language_info": {
   "codemirror_mode": {
    "name": "ipython",
    "version": 3
   },
   "file_extension": ".py",
   "mimetype": "text/x-python",
   "name": "python",
   "nbconvert_exporter": "python",
   "pygments_lexer": "ipython3",
   "version": "3.11.9"
  }
 },
 "nbformat": 4,
 "nbformat_minor": 2
}
