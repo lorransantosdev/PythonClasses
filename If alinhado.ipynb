{
 "cells": [
  {
   "cell_type": "code",
   "execution_count": 2,
   "metadata": {},
   "outputs": [
    {
     "name": "stdout",
     "output_type": "stream",
     "text": [
      "Voce esta fora da faixa de idade para ter desconto\n"
     ]
    }
   ],
   "source": [
    "idade = int(input(\"Insira a sua idade\"))\n",
    "total_compra = float(input(\"Insira o valor da sua compra\"))\n",
    "                     \n",
    "                     \n",
    "if idade >= 65:\n",
    "    if total_compra >= 100:\n",
    "        print(\"Você terá 10% de desconto\")\n",
    "    else:\n",
    "        print(\"Voce não tera direito a desconto, por causa do valor da compra\")\n",
    "else:\n",
    "    print(\"Voce esta fora da faixa de idade para ter desconto\")"
   ]
  },
  {
   "cell_type": "code",
   "execution_count": null,
   "metadata": {},
   "outputs": [],
   "source": [
    "# crie um programaa pra solicitae a idade do carro e a marca do carro. Se a faixa de idade estiver entre 2013 e 2015, solicite a marca do carrro e, caso a marca do carro seja volv, print o carro é \"vovlvo\" e foi fabricado entre 2013 e 20215\". Carro entre os anos 2013 e 205, mas nao é volvo. Seu carro está fora da faixa dos anos.\n",
    "\n",
    "# ex. 3 - verificação de horário do dia e temperatura para indicar uma atividade\n",
    "# 6 <= hora <12h e a temp > 20 graus, Hora de fazer uma caminhada no parque.\n",
    "# hora de tomar um cafe da manha. (so a temp a baixo)\n",
    "# 12 <= hora <18h e a temp > 25 graus, que tal um piquinique parque.\n",
    "# jora de almoçar\n",
    "# hora de relaar e casa"
   ]
  },
  {
   "cell_type": "code",
   "execution_count": 4,
   "metadata": {},
   "outputs": [
    {
     "name": "stdout",
     "output_type": "stream",
     "text": [
      "Seu carro é um Volvo e foi fabricado entre 2013 e 2015\n"
     ]
    }
   ],
   "source": [
    "anoCar = int(input(\"INSIRA A ANO DO CARRO\"))\n",
    "marca = str(input(\"Qual a marca\")).lower()\n",
    "\n",
    "\n",
    "\n",
    "if 2013<= anoCar <2015:\n",
    "    if marca == \"volvo\":\n",
    "        print(\"Seu carro é um Volvo e foi fabricado entre 2013 e 2015\")\n",
    "    else:\n",
    "        print(\"Carro entre os anos 2013 e 2015, mas não é Volvo\")\n",
    "else:\n",
    "    print(\"Seu carro está fora da faixa dos anos\")\n",
    "\n"
   ]
  },
  {
   "cell_type": "code",
   "execution_count": 14,
   "metadata": {},
   "outputs": [
    {
     "name": "stdout",
     "output_type": "stream",
     "text": [
      "HROA DE ALMOÇAR\n"
     ]
    }
   ],
   "source": [
    "horario = int(input(\"INSIRA O HORÁRIO\"))\n",
    "temperatura = float(input(\"INSIRA A TEMPERATURA\"))\n",
    "\n",
    "if 6<= horario <12:\n",
    "    if temperatura >20:\n",
    "        print(\"HORA DE FAZER UMA CAMINHADA\")\n",
    "    else:\n",
    "        print(\"HORA DE TOMAR UM CAFÉ\")\n",
    "elif 12<= horario <18:\n",
    "    if temperatura >25:\n",
    "        print(\"QUE TAL UM PIQUINIQUE\")\n",
    "    else:\n",
    "        print(\"HROA DE ALMOÇAR\")\n",
    "else:\n",
    "    print(\"HORA DE RELAXAR\")\n",
    "\n",
    "    \n",
    "    "
   ]
  },
  {
   "cell_type": "code",
   "execution_count": 17,
   "metadata": {},
   "outputs": [
    {
     "name": "stdout",
     "output_type": "stream",
     "text": [
      "Seu pedido esta sendo preparado para entrega expressa\n"
     ]
    }
   ],
   "source": [
    "# Ex.4 - Verificação de status de um pedido com base na idade do pedido e no tipo de cliente\n",
    "# idade <= 7 e cliente VIP - seu pedido está sendo preparado para entrega epressa!\n",
    "# else - seu pedido será entregue em breve\n",
    "#7 < idade < 14 e cliente VIP - seu pedido esta em processo de embalagem especial\n",
    "# else - seu pedido está sendo preparado\n",
    "# else - seu pedido está a caminho\n",
    "\n",
    "idade = int(input(\"WHATS YOU AGE?\"))\n",
    "cliente = str(input(\"TIPO DE CLIENTE?\")).lower()\n",
    "\n",
    "if idade <= 7:\n",
    "    if cliente == \"vip\": \n",
    "        print(\"Seu pedido esta sendo preparado para entrega expressa\")\n",
    "    else:\n",
    "        print(\"Seu pedido será entregue em breve\")\n",
    "elif 7< idade <14:\n",
    "    if cliente == \"vip\":\n",
    "        print(\"Seu pedido está em processo de embalagem especial\")\n",
    "    else:\n",
    "        print(\"Seu pedido está a caminho\")\n",
    "else:\n",
    "    print(\"Seu pedido está a caminho\")\n"
   ]
  },
  {
   "cell_type": "code",
   "execution_count": null,
   "metadata": {},
   "outputs": [],
   "source": [
    "\"\"\"ex 5 - Verificação de acesso a um usuario\n",
    "solicite usuário, senha e uma palavra de segurança para ter acesso ao sistema\"\"\"\n",
    "\n",
    "user = str(input(\"WRITE YOUR USER:\")).lowe()\n",
    "password = str(input(\"ENTER YOUR PASSWORD:\")).lowe()\n",
    "wordSecurity = str(input(\"ENTER YOUR WORD SECURITY:\")).lowe()\n",
    "\n",
    "if user == \"lorransantosdev\":\n",
    "    if password == \"Loo0505*\":\n",
    "        if wordSecurity == \"\""
   ]
  },
  {
   "cell_type": "code",
   "execution_count": 5,
   "metadata": {},
   "outputs": [
    {
     "name": "stdout",
     "output_type": "stream",
     "text": [
      "ACIMA DA MEDIA\n",
      "23.571428571428573\n"
     ]
    }
   ],
   "source": [
    "\"\"\"crie uma estrutura na qual possa verificar se os tempos de falhas de máquina = 12, 15, 18, 20, 25, 30, 45 estão abaixo ou acima da média\"\"\"\n",
    "\n",
    "timeError = int(input(\"TEMPO DE FALHAS\"))\n",
    "\n",
    "media = (12 + 15 + 18 + 20 + 25 + 30 + 45) / 7\n",
    "\n",
    "if timeError > media:\n",
    "    print(\"ACIMA DA MEDIA\")\n",
    "else:\n",
    "    print(\"TEMPO A BAIXO DA MEDIA\")\n",
    "\n",
    "print(media)"
   ]
  }
 ],
 "metadata": {
  "kernelspec": {
   "display_name": "Python 3",
   "language": "python",
   "name": "python3"
  },
  "language_info": {
   "codemirror_mode": {
    "name": "ipython",
    "version": 3
   },
   "file_extension": ".py",
   "mimetype": "text/x-python",
   "name": "python",
   "nbconvert_exporter": "python",
   "pygments_lexer": "ipython3",
   "version": "3.11.9"
  }
 },
 "nbformat": 4,
 "nbformat_minor": 2
}
