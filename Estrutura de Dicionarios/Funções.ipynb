{
 "cells": [
  {
   "cell_type": "code",
   "execution_count": 2,
   "metadata": {},
   "outputs": [
    {
     "name": "stdout",
     "output_type": "stream",
     "text": [
      "resposta 20\n"
     ]
    }
   ],
   "source": [
    "def minha_funcao(valor1, valor2):\n",
    "    return valor1 + valor2\n",
    "\n",
    "resposta = minha_funcao(10, 10)\n",
    "\n",
    "print(\"resposta\", resposta)"
   ]
  },
  {
   "cell_type": "code",
   "execution_count": 3,
   "metadata": {},
   "outputs": [
    {
     "name": "stdout",
     "output_type": "stream",
     "text": [
      "10.0 + 5.0 = 15.0\n",
      "10.0 + 8.0 = 18.0\n",
      "10.0 + 10.0 = 20.0\n",
      "20.0 + 880.0 = 900.0\n"
     ]
    }
   ],
   "source": [
    "def minha_funcao(valor1, valor2):\n",
    "    return valor1 + valor2\n",
    "\n",
    "while True:\n",
    "    valor1 = float(input(\"ENTER THE VALUE 1\"))\n",
    "    valor2 = float(input(\"ENTER THE VALUE 2\"))\n",
    "\n",
    "    resposta = minha_funcao(valor1, valor2)\n",
    "    print(\"{} + {} = {}\". format(valor1, valor2, resposta))"
   ]
  },
  {
   "cell_type": "code",
   "execution_count": null,
   "metadata": {},
   "outputs": [],
   "source": []
  }
 ],
 "metadata": {
  "kernelspec": {
   "display_name": "Python 3",
   "language": "python",
   "name": "python3"
  },
  "language_info": {
   "codemirror_mode": {
    "name": "ipython",
    "version": 3
   },
   "file_extension": ".py",
   "mimetype": "text/x-python",
   "name": "python",
   "nbconvert_exporter": "python",
   "pygments_lexer": "ipython3",
   "version": "3.11.9"
  }
 },
 "nbformat": 4,
 "nbformat_minor": 2
}
