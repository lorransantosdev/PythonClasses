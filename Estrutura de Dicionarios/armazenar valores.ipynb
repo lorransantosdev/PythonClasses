{
 "cells": [
  {
   "cell_type": "code",
   "execution_count": null,
   "metadata": {},
   "outputs": [],
   "source": [
    "#armazenar valores\n",
    "\"\"\"variavel={\n",
    "    \"chave\":\"valor\"\n",
    "}\"\"\"\n",
    "\n",
    "pessoa = {\n",
    "    \"nome\": \"Lorran\",\n",
    "    \"idade\": 18,\n",
    "    \"peso\": 70.2\n",
    "}\n",
    "\n",
    "print(pessoa ['nome'])\n",
    "print(pessoa ['idade'])\n",
    "print(pessoa ['peso'])"
   ]
  }
 ],
 "metadata": {
  "kernelspec": {
   "display_name": "Python 3",
   "language": "python",
   "name": "python3"
  },
  "language_info": {
   "name": "python",
   "version": "3.11.9"
  }
 },
 "nbformat": 4,
 "nbformat_minor": 2
}
