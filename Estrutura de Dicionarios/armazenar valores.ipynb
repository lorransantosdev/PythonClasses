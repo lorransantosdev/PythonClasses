{
 "cells": [
  {
   "cell_type": "code",
   "execution_count": 1,
   "metadata": {},
   "outputs": [
    {
     "name": "stdout",
     "output_type": "stream",
     "text": [
      "Lorran\n",
      "18\n",
      "70.2\n"
     ]
    }
   ],
   "source": [
    "#armazenar valores\n",
    "\"\"\"variavel={\n",
    "    \"chave\":\"valor\"\n",
    "}\"\"\"\n",
    "\n",
    "pessoa = {\n",
    "    \"nome\": \"Lorran\",\n",
    "    \"idade\": 18,\n",
    "    \"peso\": 70.2\n",
    "}\n",
    "\n",
    "print(pessoa ['nome'])\n",
    "print(pessoa ['idade'])\n",
    "print(pessoa ['peso'])"
   ]
  },
  {
   "cell_type": "code",
   "execution_count": null,
   "metadata": {},
   "outputs": [],
   "source": []
  }
 ],
 "metadata": {
  "kernelspec": {
   "display_name": "Python 3",
   "language": "python",
   "name": "python3"
  },
  "language_info": {
   "codemirror_mode": {
    "name": "ipython",
    "version": 3
   },
   "file_extension": ".py",
   "mimetype": "text/x-python",
   "name": "python",
   "nbconvert_exporter": "python",
   "pygments_lexer": "ipython3",
   "version": "3.11.9"
  }
 },
 "nbformat": 4,
 "nbformat_minor": 2
}
