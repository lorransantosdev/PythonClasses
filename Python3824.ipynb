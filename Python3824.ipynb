{
 "cells": [
  {
   "cell_type": "code",
   "execution_count": 1,
   "metadata": {},
   "outputs": [
    {
     "name": "stdout",
     "output_type": "stream",
     "text": [
      "area do circulo 314.15000000000003\n"
     ]
    }
   ],
   "source": [
    "# Exercise one = cálculo da área de um círculo\n",
    "\n",
    "raio = 10\n",
    "\n",
    "area = 3.1415 * (raio ** 2)\n",
    "\n",
    "print(\"area do circulo\", area)"
   ]
  },
  {
   "cell_type": "code",
   "execution_count": 2,
   "metadata": {},
   "outputs": [
    {
     "name": "stdout",
     "output_type": "stream",
     "text": [
      "A área do circulo é 655.95305375\n"
     ]
    }
   ],
   "source": [
    "# Estrutura de entrada\n",
    "\n",
    "raio = float(input(\"INSIRA O RAIO\"))\n",
    "\n",
    "# Estrutura de cálculo da área de um círculo\n",
    "\n",
    "area = 3.1415 * (raio ** 2)\n",
    "\n",
    "# Estrutura de saída\n",
    "#  \n",
    "print(\"A área do circulo é\", area)"
   ]
  },
  {
   "cell_type": "code",
   "execution_count": 4,
   "metadata": {},
   "outputs": [
    {
     "name": "stdout",
     "output_type": "stream",
     "text": [
      "FIAP\n"
     ]
    }
   ],
   "source": [
    "# Soma de textos\n",
    "\n",
    "Var1 = 'F'\n",
    "Var2 = 'I'\n",
    "Var3 = 'A'\n",
    "Var4 = 'P'\n",
    "\n",
    "Var_total = Var1 + Var2 + Var3 + Var4\n",
    "\n",
    "print(Var_total)"
   ]
  },
  {
   "cell_type": "code",
   "execution_count": 5,
   "metadata": {},
   "outputs": [
    {
     "name": "stdout",
     "output_type": "stream",
     "text": [
      "30.0\n"
     ]
    }
   ],
   "source": [
    "# Estrutura de entrada equação 2x+10\n",
    "\n",
    "x = float(input(\"INSIRA O VALOR DE X\"))\n",
    "\n",
    "# Estrutura de cálculo\n",
    "\n",
    "resultado1 = 2 * (x) + 10\n",
    "\n",
    "# Estrutura de saída\n",
    "\n",
    "print(resultado1)"
   ]
  },
  {
   "cell_type": "code",
   "execution_count": 6,
   "metadata": {},
   "outputs": [
    {
     "name": "stdout",
     "output_type": "stream",
     "text": [
      "120.0\n"
     ]
    }
   ],
   "source": [
    "# Estrutura de entrada equação 25x-5\n",
    "\n",
    "x = float(input(\"VALOR DE X:\"))\n",
    "\n",
    "# Estrutura de cálculo\n",
    "\n",
    "resultado2 = 25 * (x) - 5\n",
    "\n",
    "# Estrutura de saída\n",
    "\n",
    "print(resultado2)"
   ]
  },
  {
   "cell_type": "code",
   "execution_count": 7,
   "metadata": {},
   "outputs": [
    {
     "name": "stdout",
     "output_type": "stream",
     "text": [
      "1030.0\n"
     ]
    }
   ],
   "source": [
    "# Estrutura de entrada equação 10x**2+2x+10\n",
    "\n",
    "x = float(input(\"VALOR DE X\"))\n",
    "\n",
    "# Estrutura de cálculo\n",
    "\n",
    "resultado3 = 10 * (x) ** 2 + 2 * (x) +10\n",
    "\n",
    "# Estrutura de saída\n",
    "\n",
    "print(resultado3)"
   ]
  },
  {
   "cell_type": "code",
   "execution_count": null,
   "metadata": {},
   "outputs": [],
   "source": [
    "import sympy as sp \n",
    "\n",
    "sp."
   ]
  },
  {
   "cell_type": "code",
   "execution_count": 10,
   "metadata": {},
   "outputs": [
    {
     "name": "stdout",
     "output_type": "stream",
     "text": [
      "150000000.0\n"
     ]
    }
   ],
   "source": [
    "a = float(input(\"INSIRA O VALOR DE A\"))\n",
    "b = float(input(\"INSIRA O VALOR DE B\"))\n",
    "c = float(input(\"INSIRA O VALOR DE C\"))\n",
    "X = float(input(\"INSIRA O VALOR DE X\"))\n",
    "\n",
    "equacao = a * x ** + b * x * c\n",
    "\n",
    "print(equacao)"
   ]
  },
  {
   "cell_type": "code",
   "execution_count": 9,
   "metadata": {},
   "outputs": [
    {
     "name": "stdout",
     "output_type": "stream",
     "text": [
      "10000.0\n"
     ]
    }
   ],
   "source": [
    "# Estrutura de entrada  m para mm\n",
    "\n",
    "metros = float(input(\"INSIRA O VALOR DE METROS\"))\n",
    "\n",
    "milimetros = (m) * 1000\n",
    "\n",
    "print(milimetros) \n",
    "\n"
   ]
  },
  {
   "cell_type": "code",
   "execution_count": 21,
   "metadata": {},
   "outputs": [
    {
     "name": "stdout",
     "output_type": "stream",
     "text": [
      "A SUA VELOCIDADE MÉDIA É DE: 60.0\n"
     ]
    }
   ],
   "source": [
    "# Cálcule o tempo de uma viagem de carro, pergunte a distância a percorrer e a velocidade média esperada para a viagem\n",
    "\n",
    "# Estrura de entrada tempo\n",
    "\n",
    "segundo = float(input(\"INSIRA OS SEGUNDOS\"))\n",
    "minuto = float(input(\"INSIRA OS MINUTOS\"))\n",
    "hora = float(input(\"INSIRA OS HORAS\"))\n",
    "\n",
    "# Estrura de entrada descolamento\n",
    "\n",
    "metro = float(input(\"INSIRA OS METROS\"))\n",
    "kilometro = float(input(\"INSIRA OS kilometros\"))\n",
    "\n",
    "# Estrura de conversao de tempo / hora\n",
    "\n",
    "hora += segundo / 3600 + minuto / 60\n",
    "\n",
    "kilometro += metro / 1000\n",
    "\n",
    "# obs: corrigir em casa ( reduzir a um if)\n",
    "\n",
    "print(\"A SUA VELOCIDADE MÉDIA É DE:\", kilometro / hora)\n"
   ]
  },
  {
   "cell_type": "code",
   "execution_count": null,
   "metadata": {},
   "outputs": [],
   "source": [
    "# Exercicio 5 \n",
    "\n",
    "tensao = float(input(\"INSIRA A TENSÃO (V)\"))\n",
    "\n",
    "corrente = float(input(\"INSIRA A TENSÃO (I)\"))\n",
    "\n",
    "resistencia = float(input(\"INSIRA A TENSÃO (R)\"))\n",
    "\n",
    "# Estrutura de lógica \n",
    "\n",
    "if resistencia == 0:\n",
    "   potencia1 = tensao * corrente\n",
    "   print(\"A Potência é:\", potencia1)\n",
    "elif tensao == 0:\n",
    "   potencia2 = resistencia * corrente * corrente\n",
    "   print(\"A Potência é:\", potencia2)\n",
    "else:\n",
    "   potencia3 = tensao ** 2 / resistencia\n",
    "\n",
    "# Estrutura de saída\n",
    "\n",
    "   print(\"A Potência é:\", potencia3)\n",
    "\n"
   ]
  },
  {
   "cell_type": "code",
   "execution_count": null,
   "metadata": {},
   "outputs": [],
   "source": [
    "# Exercicio 6\n",
    "\n",
    "kilometros = float(input(\"INSIRA A QUANTIDADE DE KM\"))\n",
    "\n",
    "dias = float(input(\"INSIRA A QUANTIDADE DE DIAS\"))\n",
    "\n",
    "# Estrutura de calculo\n",
    "\n",
    "precopagar = 60 * dias + 0,15 * kilometros\n",
    "\n",
    "# Estrutura de saída\n",
    "\n",
    "print(\"O PREÇO A PAGAR É DE:\", precopagar)"
   ]
  }
 ],
 "metadata": {
  "kernelspec": {
   "display_name": "Python 3",
   "language": "python",
   "name": "python3"
  },
  "language_info": {
   "codemirror_mode": {
    "name": "ipython",
    "version": 3
   },
   "file_extension": ".py",
   "mimetype": "text/x-python",
   "name": "python",
   "nbconvert_exporter": "python",
   "pygments_lexer": "ipython3",
   "version": "3.11.4"
  },
  "orig_nbformat": 4
 },
 "nbformat": 4,
 "nbformat_minor": 2
}
