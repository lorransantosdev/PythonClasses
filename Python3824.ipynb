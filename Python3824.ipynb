{
 "cells": [
  {
   "cell_type": "code",
   "execution_count": 1,
   "metadata": {},
   "outputs": [
    {
     "name": "stdout",
     "output_type": "stream",
     "text": [
      "area do circulo 314.15000000000003\n"
     ]
    }
   ],
   "source": [
    "# Exercise one = cálculo da área de um círculo\n",
    "\n",
    "raio = 10\n",
    "\n",
    "area = 3.1415 * (raio ** 2)\n",
    "\n",
    "print(\"area do circulo\", area)"
   ]
  },
  {
   "cell_type": "code",
   "execution_count": 2,
   "metadata": {},
   "outputs": [
    {
     "name": "stdout",
     "output_type": "stream",
     "text": [
      "A área do circulo é 655.95305375\n"
     ]
    }
   ],
   "source": [
    "# Estrutura de entrada\n",
    "\n",
    "raio = float(input(\"INSIRA O RAIO\"))\n",
    "\n",
    "# Estrutura de cálculo da área de um círculo\n",
    "\n",
    "area = 3.1415 * (raio ** 2)\n",
    "\n",
    "# Estrutura de saída\n",
    "#  \n",
    "print(\"A área do circulo é\", area)"
   ]
  },
  {
   "cell_type": "code",
   "execution_count": 4,
   "metadata": {},
   "outputs": [
    {
     "name": "stdout",
     "output_type": "stream",
     "text": [
      "FIAP\n"
     ]
    }
   ],
   "source": [
    "# Soma de textos\n",
    "\n",
    "Var1 = 'F'\n",
    "Var2 = 'I'\n",
    "Var3 = 'A'\n",
    "Var4 = 'P'\n",
    "\n",
    "Var_total = Var1 + Var2 + Var3 + Var4\n",
    "\n",
    "print(Var_total)"
   ]
  },
  {
   "cell_type": "code",
   "execution_count": 5,
   "metadata": {},
   "outputs": [
    {
     "name": "stdout",
     "output_type": "stream",
     "text": [
      "30.0\n"
     ]
    }
   ],
   "source": [
    "# Estrutura de entrada equação 2x+10\n",
    "\n",
    "x = float(input(\"INSIRA O VALOR DE X\"))\n",
    "\n",
    "# Estrutura de cálculo\n",
    "\n",
    "resultado1 = 2 * (x) + 10\n",
    "\n",
    "# Estrutura de saída\n",
    "\n",
    "print(resultado1)"
   ]
  },
  {
   "cell_type": "code",
   "execution_count": 6,
   "metadata": {},
   "outputs": [
    {
     "name": "stdout",
     "output_type": "stream",
     "text": [
      "120.0\n"
     ]
    }
   ],
   "source": [
    "# Estrutura de entrada equação 25x-5\n",
    "\n",
    "x = float(input(\"VALOR DE X:\"))\n",
    "\n",
    "# Estrutura de cálculo\n",
    "\n",
    "resultado2 = 25 * (x) - 5\n",
    "\n",
    "# Estrutura de saída\n",
    "\n",
    "print(resultado2)"
   ]
  },
  {
   "cell_type": "code",
   "execution_count": 7,
   "metadata": {},
   "outputs": [
    {
     "name": "stdout",
     "output_type": "stream",
     "text": [
      "1030.0\n"
     ]
    }
   ],
   "source": [
    "# Estrutura de entrada equação 10x**2+2x+10\n",
    "\n",
    "x = float(input(\"VALOR DE X\"))\n",
    "\n",
    "# Estrutura de cálculo\n",
    "\n",
    "resultado3 = 10 * (x) ** 2 + 2 * (x) +10\n",
    "\n",
    "# Estrutura de saída\n",
    "\n",
    "print(resultado3)"
   ]
  },
  {
   "cell_type": "code",
   "execution_count": null,
   "metadata": {},
   "outputs": [],
   "source": [
    "import sympy as sp \n",
    "\n",
    "sp."
   ]
  },
  {
   "cell_type": "code",
   "execution_count": 10,
   "metadata": {},
   "outputs": [
    {
     "name": "stdout",
     "output_type": "stream",
     "text": [
      "150000000.0\n"
     ]
    }
   ],
   "source": [
    "a = float(input(\"INSIRA O VALOR DE A\"))\n",
    "b = float(input(\"INSIRA O VALOR DE B\"))\n",
    "c = float(input(\"INSIRA O VALOR DE C\"))\n",
    "X = float(input(\"INSIRA O VALOR DE X\"))\n",
    "\n",
    "equacao = a * x ** + b * x * c\n",
    "\n",
    "print(equacao)"
   ]
  },
  {
   "cell_type": "code",
   "execution_count": 9,
   "metadata": {},
   "outputs": [
    {
     "name": "stdout",
     "output_type": "stream",
     "text": [
      "10000.0\n"
     ]
    }
   ],
   "source": [
    "# Estrutura de entrada  m para mm\n",
    "\n",
    "metros = float(input(\"INSIRA O VALOR DE METROS\"))\n",
    "\n",
    "milimetros = (m) * 1000\n",
    "\n",
    "print(milimetros) \n",
    "\n"
   ]
  },
  {
   "cell_type": "code",
   "execution_count": 20,
   "metadata": {},
   "outputs": [
    {
     "name": "stdout",
     "output_type": "stream",
     "text": [
      "10.0\n",
      "1000.0\n"
     ]
    },
    {
     "ename": "NameError",
     "evalue": "name 'covertermetrosparakilometros' is not defined",
     "output_type": "error",
     "traceback": [
      "\u001b[1;31m---------------------------------------------------------------------------\u001b[0m",
      "\u001b[1;31mNameError\u001b[0m                                 Traceback (most recent call last)",
      "Cell \u001b[1;32mIn[20], line 35\u001b[0m\n\u001b[0;32m     31\u001b[0m     \u001b[39mprint\u001b[39m(kilometro)\n\u001b[0;32m     33\u001b[0m \u001b[39m# Estrutura de cálculo de velocidade média\u001b[39;00m\n\u001b[1;32m---> 35\u001b[0m \u001b[39mif\u001b[39;00m (covertermetrosparakilometros \u001b[39m>\u001b[39m \u001b[39m0\u001b[39m) \u001b[39m&\u001b[39m (covertersegundosparahoras \u001b[39m>\u001b[39m \u001b[39m0\u001b[39m):\n\u001b[0;32m     36\u001b[0m     resultado1 \u001b[39m=\u001b[39m covertermetrosparakilometros \u001b[39m/\u001b[39m covertersegundosparahora\n\u001b[0;32m     37\u001b[0m     \u001b[39mprint\u001b[39m(\u001b[39m\"\u001b[39m\u001b[39mVelocidade média é\u001b[39m\u001b[39m\"\u001b[39m, resultado1)\n",
      "\u001b[1;31mNameError\u001b[0m: name 'covertermetrosparakilometros' is not defined"
     ]
    }
   ],
   "source": [
    "# Cálcule o tempo de uma viagem de carro, pergunte a distância a percorrer e a velocidade média esperada para a viagem\n",
    "\n",
    "# Estrura de entrada tempo\n",
    "\n",
    "segundo = float(input(\"INSIRA OS SEGUNDOS\"))\n",
    "minuto = float(input(\"INSIRA OS MINUTOS\"))\n",
    "hora = float(input(\"INSIRA OS HORAS\"))\n",
    "\n",
    "# Estrura de entrada descolamento\n",
    "\n",
    "metro = float(input(\"INSIRA OS METROS\"))\n",
    "kilometro = float(input(\"INSIRA OS kilometros\"))\n",
    "\n",
    "# Estrura de conversao de tempo / hora\n",
    "\n",
    "if segundo > 0:\n",
    "    covertersegundosparahora = segundo * 3600\n",
    "    print(covertersegundosparahora)\n",
    "elif minuto > 0:\n",
    "    converterminutosparahoras = minutos * 60\n",
    "    print(converterminutosparahoras)\n",
    "else:\n",
    "    print(hora)\n",
    "\n",
    "    # Estrura de conversao de deslocamento / km\n",
    "\n",
    "if metro > 0:\n",
    "    covertermetrosparakilometros = metro * 1000\n",
    "    print(covertermetrosparakilometros)\n",
    "else:\n",
    "    print(kilometro)\n",
    "\n",
    "# Estrutura de cálculo de velocidade média\n",
    "\n",
    "if (covertermetrosparakilometros > 0) & (covertersegundosparahora > 0):\n",
    "    resultado1 = covertermetrosparakilometros / covertersegundosparahora\n",
    "    print(\"Velocidade média é\", resultado1)\n",
    "elif (covertermetrosparakilometros >0) & (converterminutosparahoras > 0):\n",
    "    resultado2 = covertermetrosparakilometros / converterminutosparahoras\n",
    "    print(\"Velocidade média é\", resultado2)\n",
    "else:\n",
    "    print(\"Velocidade média é:\", kilometro / hora)\n",
    "\n",
    "# obs: corrigir em casa ( reduzir a um if)\n",
    "\n",
    "\n",
    "\n",
    "\n",
    "\n",
    "\n",
    "     \n",
    "\n"
   ]
  },
  {
   "cell_type": "code",
   "execution_count": null,
   "metadata": {},
   "outputs": [],
   "source": [
    "\n",
    "tensao = float(input(\"INSIRA A TENSÃO (V)\"))\n",
    "\n",
    "corrente = float(input(\"INSIRA A TENSÃO (I)\"))\n",
    "\n",
    "resistencia = float(input(\"INSIRA A TENSÃO (R)\"))\n",
    "\n",
    "# Estrutura de lógica \n",
    "\n",
    "if resistencia == 0:\n",
    "   potencia1 = tensao * corrente\n",
    "   print(\"A Potência é:\", potencia1)\n",
    "elif tensao == 0:\n",
    "   potencia2 = resistencia * corrente * corrente\n",
    "   print(\"A Potência é:\", potencia2)\n",
    "else:\n",
    "   potencia3 = tensao ** 2 / resistencia\n",
    "\n",
    "# Estrutura de saída\n",
    "\n",
    "   print(\"A Potência é:\", potencia3)\n",
    "\n"
   ]
  }
 ],
 "metadata": {
  "kernelspec": {
   "display_name": "Python 3",
   "language": "python",
   "name": "python3"
  },
  "language_info": {
   "codemirror_mode": {
    "name": "ipython",
    "version": 3
   },
   "file_extension": ".py",
   "mimetype": "text/x-python",
   "name": "python",
   "nbconvert_exporter": "python",
   "pygments_lexer": "ipython3",
   "version": "3.11.4"
  },
  "orig_nbformat": 4
 },
 "nbformat": 4,
 "nbformat_minor": 2
}
