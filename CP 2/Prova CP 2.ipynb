{
 "cells": [
  {
   "cell_type": "markdown",
   "metadata": {},
   "source": [
    "#### 1.Crie um programa que retorne uma lista de valores de massa, dado que a velocidade da luz é c = 300000 km/s e a lista de força 500, 1000, 1500, 2000, 2500, 3000 kN respectivamente. Utilize uma estrutura de repetição com for e append."
   ]
  },
  {
   "cell_type": "code",
   "execution_count": null,
   "metadata": {},
   "outputs": [],
   "source": [
    "list_velocidade = [300000]\n",
    "list_forca = [500,1000,1500,2000,2500,3000]\n",
    "list_massa = []\n",
    "\n",
    "for i in range(len(list_forca)):\n",
    "    massas = list_forca[i] / list_velocidade[0]\n",
    "    list_massa.append(massas)\n",
    "print(list_massa)"
   ]
  },
  {
   "cell_type": "markdown",
   "metadata": {},
   "source": [
    "#### 2.Crie um programa para solicitar quatro nomes e cpfs. Utilize listas, contador, append e retorne duas listas chamadas nomes e cpfs contendo as respectivas informações. Utilize estrutura de repetição while."
   ]
  },
  {
   "cell_type": "code",
   "execution_count": 4,
   "metadata": {},
   "outputs": [
    {
     "name": "stdout",
     "output_type": "stream",
     "text": [
      "NOME: Lo\n",
      "CPF: 1\n",
      "NOME: Gra\n",
      "CPF: 2\n",
      "NOME: Lu\n",
      "CPF: 3\n",
      "NOME: Ra\n",
      "CPF: 4\n"
     ]
    }
   ],
   "source": [
    "list_names = []\n",
    "list_cpfs = []\n",
    "\n",
    "i = 0;\n",
    "\n",
    "while i <4:\n",
    "    names = input(\"ENTER YOUR NAME\");\n",
    "    cpfs = input(\"ENTER YOUR RG\");\n",
    "\n",
    "    list_names.append(names);\n",
    "    list_cpfs.append(cpfs);\n",
    "\n",
    "    i += 1;\n",
    "\n",
    "for k in range(len(list_names)):\n",
    "    print(\"NOME: {}\".format(list_names[k]))\n",
    "    print(\"CPF: {}\".format(list_cpfs[k]))\n",
    "\n",
    "  "
   ]
  },
  {
   "cell_type": "markdown",
   "metadata": {},
   "source": [
    "##### 3.Cálculo de Salário Líquido - Em uma empresa, os funcionários têm seus salários calculados de acordo com as seguintes regras:\n",
    "  \n",
    "- Se o salário for até R$ 2.000,00, será aplicado um desconto de 10%;\n",
    "- Se o salário for superior a R$ 2.000,00 e até R$ 4.000,00, será aplicado um desconto de 20%;\n",
    "- Se o salário for superior a R$ 4.000,00, será aplicado um desconto de 30%.\n",
    "  \n",
    "Escreva um programa em Python para retornar os respectivos descontos no salário dos funcionários de acordo com as regras descritas anteriormente. Retorne os salários líquidos de cada um, considerando os descontos aplicados. Armazene os salários líquidos em três listas diferentes, salario_10, salario_20 e salario_30, para cada respectiva faixa de desconto. Considere a lista salarios = [1800, 2500, 3200, 4200, 5000]."
   ]
  },
  {
   "cell_type": "code",
   "execution_count": 5,
   "metadata": {},
   "outputs": [
    {
     "name": "stdout",
     "output_type": "stream",
     "text": [
      "Sálarios com desconto de 10% aplicados [1620.0]\n",
      "Sálarios com desconto de 20% aplicados [2000.0, 2560.0]\n",
      "Sálarios com desconto de 30% aplicados [2940.0, 3500.0]\n"
     ]
    }
   ],
   "source": [
    "lista_salarios = [1800, 2500, 3200, 4200, 5000];\n",
    "lista_salario_10 = []\n",
    "lista_salario_20 = []\n",
    "lista_salario_30 = []\n",
    "\n",
    "\n",
    "for i in range(len(lista_salarios)):\n",
    "    if lista_salarios[i] <= 2000:\n",
    "        desconto_10 = lista_salarios[i] - (lista_salarios[i] * 0.10);\n",
    "        lista_salario_10.append(desconto_10);\n",
    "\n",
    "    elif lista_salarios[i] < 4000:\n",
    "        desconto_20 = lista_salarios[i] - (lista_salarios[i] * 0.20);\n",
    "        lista_salario_20.append(desconto_20);\n",
    "\n",
    "    else:\n",
    "        desconto_30 = lista_salarios[i] - (lista_salarios[i] * 0.30);\n",
    "        lista_salario_30.append(desconto_30);\n",
    "        i +=1;\n",
    "\n",
    "print(\"Sálarios com desconto de 10% aplicados\", lista_salario_10)\n",
    "print(\"Sálarios com desconto de 20% aplicados\", lista_salario_20)\n",
    "print(\"Sálarios com desconto de 30% aplicados\", lista_salario_30)"
   ]
  },
  {
   "cell_type": "markdown",
   "metadata": {},
   "source": [
    "#### 4.Programa de Compras em uma Loja de Jogos - Neste programa, você será solicitado a inserir os valores de 5 produtos diferentes para dois usuários em uma loja de jogos. O programa calculará e exibirá o valor total das compras de cada usuário, bem como o valor médio das compras de cada um.\n"
   ]
  },
  {
   "cell_type": "code",
   "execution_count": 15,
   "metadata": {},
   "outputs": [
    {
     "name": "stdout",
     "output_type": "stream",
     "text": [
      "O valor total do usuario 1 foi de R$50.0 e a média foi de R$10.0\n",
      "O valor total do usuario 2 foi de R$100.0 e a média foi de R$20.0\n"
     ]
    }
   ],
   "source": [
    "lista_valores1 = []\n",
    "lista_valores2 = []\n",
    "\n",
    "compra_usuarios1 = []\n",
    "compra_usuarios2 = []\n",
    "#DADOS USUARIO 1\n",
    "for i in range(5):\n",
    "    valor_produtos1 = float(input(\"VALOR DO PRODUTO USUARIO 1\"));  \n",
    "    lista_valores1.append(valor_produtos1);\n",
    "    i += 1;\n",
    "\n",
    "soma1 =0;\n",
    "k = 0;\n",
    "while k < len(lista_valores1):\n",
    "    soma1 += lista_valores1[k]\n",
    "\n",
    "    k+=1;\n",
    "\n",
    "media1 = soma1 / len(lista_valores1)\n",
    "\n",
    "#DADOS USUARIO 2\n",
    "for i in range(5):\n",
    "    valor_produtos2 = float(input(\"VALOR DO PRODUTO USUARIO 2\"));  \n",
    "    lista_valores2.append(valor_produtos2);\n",
    "    i += 1;\n",
    "\n",
    "soma2 =0;\n",
    "l = 0;\n",
    "while l < len(lista_valores2):\n",
    "    soma2 += lista_valores2[l]\n",
    "\n",
    "    l+=1;\n",
    "\n",
    "media2 = soma2 / len(lista_valores2)\n",
    "\n",
    "print(\"O valor total do usuario 1 foi de R${} e a média foi de R${}\".format(soma1,media1))\n",
    "print(\"O valor total do usuario 2 foi de R${} e a média foi de R${}\".format(soma2,media2))"
   ]
  },
  {
   "cell_type": "markdown",
   "metadata": {},
   "source": [
    "##### 5.Você está criando um programa para registrar as compras em uma loja de computadores. Primeiro, você solicitará ao usuário que insira 5 produtos adquiridos. Em seguida, usando uma estrutura de repetição com while, você criará uma lista e inserirá esses produtos nela.\n",
    "  \n",
    "lista_produtos = [‘notebook', ‘ssd', ‘mouse', ‘teclado', ‘monitor']\n",
    "  \n",
    "Depois, você verificará se os produtos digitados estão dentro da lista de produtos da loja. Para isso, você usará uma estrutura de repetição for. Em seguida, você contará a quantidade de cada tipo de produto digitado pelo usuário. "
   ]
  },
  {
   "cell_type": "code",
   "execution_count": 21,
   "metadata": {},
   "outputs": [
    {
     "name": "stdout",
     "output_type": "stream",
     "text": [
      "TOTAL DE COMPRA DOS PRODUTOS DO CLIENTE X\n",
      "Monitor: 0\n",
      "Notebook: 0\n",
      "Mouse: 2\n",
      "Ssd: 2\n",
      "Teclado: 1\n"
     ]
    }
   ],
   "source": [
    "\n",
    "lista_produtos = ['monitor', 'notebook', 'mouse', 'ssd', 'teclado']\n",
    "compra_produtos= []\n",
    "i = 0;\n",
    "\n",
    "monitor = 0;\n",
    "notebook = 0;\n",
    "mouse = 0;\n",
    "ssd = 0;\n",
    "teclado = 0;\n",
    "\n",
    "\n",
    "#PROGRAMA QUE SOLICITA OS PRODUTOS\n",
    "while i < 5:\n",
    "    produtos = input(\"WRITE A BUY PRODUCT\").lower();\n",
    "    compra_produtos.append(produtos);\n",
    "    i += 1;\n",
    "\n",
    "\n",
    "#PROGRAMA QUE SOLICITA OS PRODUTOS\n",
    "for k in range(len(compra_produtos)):\n",
    "    if compra_produtos[k] == lista_produtos[0]:\n",
    "        monitor += 1;\n",
    "    \n",
    "    elif compra_produtos[k] == lista_produtos[1]:\n",
    "        notebook += 1;\n",
    "    \n",
    "    elif compra_produtos[k] == lista_produtos[2]:\n",
    "        mouse += 1;\n",
    "    \n",
    "    elif compra_produtos[k] == lista_produtos[3]:\n",
    "        ssd += 1;\n",
    "    \n",
    "    elif compra_produtos[k] == lista_produtos[4]:\n",
    "        teclado += 1;\n",
    "    \n",
    "    k += 1;\n",
    "\n",
    "print(\"TOTAL DE COMPRA DOS PRODUTOS DO CLIENTE X\")\n",
    "print(\"Monitor: {}\".format(monitor))\n",
    "print(\"Notebook: {}\".format(notebook))\n",
    "print(\"Mouse: {}\".format(mouse))\n",
    "print(\"Ssd: {}\".format(ssd))\n",
    "print(\"Teclado: {}\".format(teclado))\n",
    "\n"
   ]
  },
  {
   "cell_type": "code",
   "execution_count": 20,
   "metadata": {},
   "outputs": [
    {
     "data": {
      "text/plain": [
       "1"
      ]
     },
     "execution_count": 20,
     "metadata": {},
     "output_type": "execute_result"
    }
   ],
   "source": [
    "teclado"
   ]
  },
  {
   "cell_type": "code",
   "execution_count": 19,
   "metadata": {},
   "outputs": [
    {
     "data": {
      "text/plain": [
       "0"
      ]
     },
     "execution_count": 19,
     "metadata": {},
     "output_type": "execute_result"
    }
   ],
   "source": [
    "monitor"
   ]
  }
 ],
 "metadata": {
  "kernelspec": {
   "display_name": "Python 3",
   "language": "python",
   "name": "python3"
  },
  "language_info": {
   "codemirror_mode": {
    "name": "ipython",
    "version": 3
   },
   "file_extension": ".py",
   "mimetype": "text/x-python",
   "name": "python",
   "nbconvert_exporter": "python",
   "pygments_lexer": "ipython3",
   "version": "3.11.9"
  }
 },
 "nbformat": 4,
 "nbformat_minor": 2
}
